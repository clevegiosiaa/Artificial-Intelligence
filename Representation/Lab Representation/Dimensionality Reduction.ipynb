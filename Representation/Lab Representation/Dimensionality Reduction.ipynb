{
 "cells": [
  {
   "cell_type": "markdown",
   "id": "horizontal-complaint",
   "metadata": {},
   "source": [
    "## Cara menghitung PCA manual\n",
    "Seperti yang sudah kita pelajari dari file .pdf yang diberikan, setelah mendapat intuisi mengenai apa itu reduksi dimensi dan algoritma reduksi dimensi yang paling banyak digunakan maka sekarang Kita akan mencoba untuk mengaplikasikan penggunaan PCA secara manual untuk dataset Wine.csv"
   ]
  },
  {
   "cell_type": "code",
   "execution_count": 1,
   "id": "regional-shoulder",
   "metadata": {},
   "outputs": [
    {
     "data": {
      "text/html": [
       "<div>\n",
       "<style scoped>\n",
       "    .dataframe tbody tr th:only-of-type {\n",
       "        vertical-align: middle;\n",
       "    }\n",
       "\n",
       "    .dataframe tbody tr th {\n",
       "        vertical-align: top;\n",
       "    }\n",
       "\n",
       "    .dataframe thead th {\n",
       "        text-align: right;\n",
       "    }\n",
       "</style>\n",
       "<table border=\"1\" class=\"dataframe\">\n",
       "  <thead>\n",
       "    <tr style=\"text-align: right;\">\n",
       "      <th></th>\n",
       "      <th>Alcohol</th>\n",
       "      <th>Malic_Acid</th>\n",
       "      <th>Ash</th>\n",
       "      <th>Ash_Alcanity</th>\n",
       "      <th>Magnesium</th>\n",
       "      <th>Total_Phenols</th>\n",
       "      <th>Flavanoids</th>\n",
       "      <th>Nonflavanoid_Phenols</th>\n",
       "      <th>Proanthocyanins</th>\n",
       "      <th>Color_Intensity</th>\n",
       "      <th>Hue</th>\n",
       "      <th>OD280</th>\n",
       "      <th>Proline</th>\n",
       "      <th>Customer_Segment</th>\n",
       "    </tr>\n",
       "  </thead>\n",
       "  <tbody>\n",
       "    <tr>\n",
       "      <th>0</th>\n",
       "      <td>14.23</td>\n",
       "      <td>1.71</td>\n",
       "      <td>2.43</td>\n",
       "      <td>15.6</td>\n",
       "      <td>127</td>\n",
       "      <td>2.80</td>\n",
       "      <td>3.06</td>\n",
       "      <td>0.28</td>\n",
       "      <td>2.29</td>\n",
       "      <td>5.64</td>\n",
       "      <td>1.04</td>\n",
       "      <td>3.92</td>\n",
       "      <td>1065</td>\n",
       "      <td>1</td>\n",
       "    </tr>\n",
       "    <tr>\n",
       "      <th>1</th>\n",
       "      <td>13.20</td>\n",
       "      <td>1.78</td>\n",
       "      <td>2.14</td>\n",
       "      <td>11.2</td>\n",
       "      <td>100</td>\n",
       "      <td>2.65</td>\n",
       "      <td>2.76</td>\n",
       "      <td>0.26</td>\n",
       "      <td>1.28</td>\n",
       "      <td>4.38</td>\n",
       "      <td>1.05</td>\n",
       "      <td>3.40</td>\n",
       "      <td>1050</td>\n",
       "      <td>1</td>\n",
       "    </tr>\n",
       "    <tr>\n",
       "      <th>2</th>\n",
       "      <td>13.16</td>\n",
       "      <td>2.36</td>\n",
       "      <td>2.67</td>\n",
       "      <td>18.6</td>\n",
       "      <td>101</td>\n",
       "      <td>2.80</td>\n",
       "      <td>3.24</td>\n",
       "      <td>0.30</td>\n",
       "      <td>2.81</td>\n",
       "      <td>5.68</td>\n",
       "      <td>1.03</td>\n",
       "      <td>3.17</td>\n",
       "      <td>1185</td>\n",
       "      <td>1</td>\n",
       "    </tr>\n",
       "    <tr>\n",
       "      <th>3</th>\n",
       "      <td>14.37</td>\n",
       "      <td>1.95</td>\n",
       "      <td>2.50</td>\n",
       "      <td>16.8</td>\n",
       "      <td>113</td>\n",
       "      <td>3.85</td>\n",
       "      <td>3.49</td>\n",
       "      <td>0.24</td>\n",
       "      <td>2.18</td>\n",
       "      <td>7.80</td>\n",
       "      <td>0.86</td>\n",
       "      <td>3.45</td>\n",
       "      <td>1480</td>\n",
       "      <td>1</td>\n",
       "    </tr>\n",
       "    <tr>\n",
       "      <th>4</th>\n",
       "      <td>13.24</td>\n",
       "      <td>2.59</td>\n",
       "      <td>2.87</td>\n",
       "      <td>21.0</td>\n",
       "      <td>118</td>\n",
       "      <td>2.80</td>\n",
       "      <td>2.69</td>\n",
       "      <td>0.39</td>\n",
       "      <td>1.82</td>\n",
       "      <td>4.32</td>\n",
       "      <td>1.04</td>\n",
       "      <td>2.93</td>\n",
       "      <td>735</td>\n",
       "      <td>1</td>\n",
       "    </tr>\n",
       "  </tbody>\n",
       "</table>\n",
       "</div>"
      ],
      "text/plain": [
       "   Alcohol  Malic_Acid   Ash  Ash_Alcanity  Magnesium  Total_Phenols  \\\n",
       "0    14.23        1.71  2.43          15.6        127           2.80   \n",
       "1    13.20        1.78  2.14          11.2        100           2.65   \n",
       "2    13.16        2.36  2.67          18.6        101           2.80   \n",
       "3    14.37        1.95  2.50          16.8        113           3.85   \n",
       "4    13.24        2.59  2.87          21.0        118           2.80   \n",
       "\n",
       "   Flavanoids  Nonflavanoid_Phenols  Proanthocyanins  Color_Intensity   Hue  \\\n",
       "0        3.06                  0.28             2.29             5.64  1.04   \n",
       "1        2.76                  0.26             1.28             4.38  1.05   \n",
       "2        3.24                  0.30             2.81             5.68  1.03   \n",
       "3        3.49                  0.24             2.18             7.80  0.86   \n",
       "4        2.69                  0.39             1.82             4.32  1.04   \n",
       "\n",
       "   OD280  Proline  Customer_Segment  \n",
       "0   3.92     1065                 1  \n",
       "1   3.40     1050                 1  \n",
       "2   3.17     1185                 1  \n",
       "3   3.45     1480                 1  \n",
       "4   2.93      735                 1  "
      ]
     },
     "execution_count": 1,
     "metadata": {},
     "output_type": "execute_result"
    }
   ],
   "source": [
    "# Panggil library yang digunakan\n",
    "import numpy as np\n",
    "import matplotlib.pyplot as plt\n",
    "import pandas as pd\n",
    "\n",
    "# Panggil dataset\n",
    "dataset = pd.read_csv('Wine.csv')\n",
    "# Tunjukkan 5 data pertama dataset\n",
    "dataset.head()"
   ]
  },
  {
   "cell_type": "markdown",
   "id": "standing-provider",
   "metadata": {},
   "source": [
    "Dari data di atas kita bisa melihat kalau ada beberapa kolom yang membangun data tersebut. Sekarang kita akan menghitung jumlah kolom/fitur di atas."
   ]
  },
  {
   "cell_type": "code",
   "execution_count": 2,
   "id": "complex-baghdad",
   "metadata": {},
   "outputs": [
    {
     "data": {
      "text/plain": [
       "(178, 14)"
      ]
     },
     "execution_count": 2,
     "metadata": {},
     "output_type": "execute_result"
    }
   ],
   "source": [
    "# Lihat ukuran (baris, kolom) dari variabel dataset\n",
    "dataset.shape"
   ]
  },
  {
   "cell_type": "markdown",
   "id": "configured-emperor",
   "metadata": {},
   "source": [
    "Bagi data yang akan menjadi fitur dan yang akan menjadi label"
   ]
  },
  {
   "cell_type": "code",
   "execution_count": 3,
   "id": "fitting-slovakia",
   "metadata": {},
   "outputs": [],
   "source": [
    "X = dataset.iloc[:, 0:13].values\n",
    "y = dataset.iloc[:, 13].values"
   ]
  },
  {
   "cell_type": "markdown",
   "id": "sitting-rwanda",
   "metadata": {},
   "source": [
    "Bagi data fitur dan label dengan menggunakan library sklearn.model_selection: train_test_split"
   ]
  },
  {
   "cell_type": "code",
   "execution_count": 4,
   "id": "romance-mortality",
   "metadata": {},
   "outputs": [],
   "source": [
    "# Splitting the dataset into the Training set and Test set\n",
    "from sklearn.model_selection import train_test_split\n",
    "X_train, X_test, y_train, y_test = train_test_split(X, y, test_size = 0.2, random_state = 0)"
   ]
  },
  {
   "cell_type": "markdown",
   "id": "peaceful-episode",
   "metadata": {},
   "source": [
    "Lakukan feature scaling untuk data latih dan data uji"
   ]
  },
  {
   "cell_type": "code",
   "execution_count": 5,
   "id": "biblical-lodge",
   "metadata": {},
   "outputs": [],
   "source": [
    "# Feature Scaling\n",
    "from sklearn.preprocessing import StandardScaler\n",
    "sc = StandardScaler()\n",
    "X_train = sc.fit_transform(X_train)\n",
    "X_test = sc.transform(X_test)"
   ]
  },
  {
   "cell_type": "code",
   "execution_count": 6,
   "id": "offshore-coast",
   "metadata": {},
   "outputs": [
    {
     "data": {
      "text/plain": [
       "(142, 13)"
      ]
     },
     "execution_count": 6,
     "metadata": {},
     "output_type": "execute_result"
    }
   ],
   "source": [
    "# Ukuran X_train\n",
    "X_train.shape"
   ]
  },
  {
   "cell_type": "code",
   "execution_count": 7,
   "id": "posted-chase",
   "metadata": {},
   "outputs": [
    {
     "data": {
      "text/plain": [
       "array([[ 0.87668336,  0.79842885,  0.64412971, ...,  0.0290166 ,\n",
       "        -1.06412236, -0.2059076 ],\n",
       "       [-0.36659076, -0.7581304 , -0.39779858, ...,  0.0290166 ,\n",
       "        -0.73083231, -0.81704676],\n",
       "       [-1.69689407, -0.34424759, -0.32337513, ...,  0.90197362,\n",
       "         0.51900537, -1.31256499],\n",
       "       ...,\n",
       "       [-0.70227477, -0.68615078, -0.65828065, ...,  0.46549511,\n",
       "         0.51900537, -1.31256499],\n",
       "       [ 1.13777093, -0.62316862, -0.91876272, ..., -0.18922266,\n",
       "         1.03282752,  0.80164614],\n",
       "       [ 1.4610222 ,  0.12361993,  0.42085937, ..., -1.45501034,\n",
       "        -1.2168803 , -0.2719767 ]])"
      ]
     },
     "execution_count": 7,
     "metadata": {},
     "output_type": "execute_result"
    }
   ],
   "source": [
    "# Tampilan data latih yang sudah discaling\n",
    "X_train"
   ]
  },
  {
   "cell_type": "markdown",
   "id": "united-battle",
   "metadata": {},
   "source": [
    "Ada beberapa cara yang bisa kita gunakan untuk mencari PCA secara manual. Secara umum ada dua cara, yaitu:\n",
    "* Eigen Decomposition\n",
    "* Singular Value Decomposition\n",
    "\n",
    "\n",
    "Sebenarnya untuk mencari nilai PCA bisa kita lakukan dengan menggunakan library skelarn.decomposition:PCA. Namun alangkah baiknya jika kita memahami cara untuk melakukan penurunanya secara manual agar kita paham intuisi di balik reduksi dimensi."
   ]
  },
  {
   "cell_type": "markdown",
   "id": "peripheral-individual",
   "metadata": {},
   "source": [
    "**Eigen Decomposition**\n",
    "<br>\n",
    "Baik cara Eigen Decomposition dan SVD, keduanya memerlukan kita untuk melakukan centering dari data latih yang akan direduksi dimensinya. Cara melakukannya sangat simpel, cukup dengan menghitung rata-rata masing-masing fitur lalu dikurangi dengan setiap nilai fitur yang ada. Untuk setiap kolom $j=1,2,..,13$ dan $m$ adalah jumlah baris dari data $X_{train}$, yaitu 142.\n",
    "<br>\n",
    "\\begin{equation}\n",
    "M_{j}=\\sum_{i=0}^{m}\\frac{(X_{i,j})}{m}\n",
    "\\end{equation}\n",
    "<br>\n",
    "Hitung nilai center untuk setiap baris pada kolom-kolom yang ada\n",
    "<br>\n",
    "\\begin{equation}\n",
    "C_{i,j}=X_{i,j} - M_{j}\n",
    "\\end{equation}\n",
    "<br>"
   ]
  },
  {
   "cell_type": "code",
   "execution_count": 8,
   "id": "sized-alcohol",
   "metadata": {},
   "outputs": [
    {
     "name": "stdout",
     "output_type": "stream",
     "text": [
      "[ 0.87668336  0.79842885  0.64412971  0.12974277  0.48853231 -0.70326216\n",
      " -1.42846826  1.0724566  -1.36820277  0.35193216  0.0290166  -1.06412236\n",
      " -0.2059076 ]\n"
     ]
    }
   ],
   "source": [
    "from numpy import array\n",
    "from numpy import mean\n",
    "from numpy import cov\n",
    "from numpy.linalg import eig\n",
    "\n",
    "# Hitung nilai rata-rata untuk masing-masing kolom\n",
    "M = mean(X_train.T, axis=1)\n",
    "# Lakukan centering dengan mengurangi nilai kolom dengan nilai rata-rata yang diperoleh\n",
    "C = X_train - M\n",
    "print(C[0])"
   ]
  },
  {
   "cell_type": "markdown",
   "id": "accompanied-poison",
   "metadata": {},
   "source": [
    "Setelah mendapat nilai kolom yang sudah dicentering, langkah selanjutnya adalah menghitung matriks kovariansi nilai C, yaitu $A=covariance(C)$\n",
    "<br>\n",
    "\\begin{equation}\n",
    "A=\\frac{\\mathbf{C}^T\\mathbf{C}}{m-1}\n",
    "\\end{equation}\n",
    "<br>"
   ]
  },
  {
   "cell_type": "code",
   "execution_count": 9,
   "id": "portable-porcelain",
   "metadata": {},
   "outputs": [
    {
     "name": "stdout",
     "output_type": "stream",
     "text": [
      "[ 1.0070922   0.10158986  0.26809509 -0.27516974  0.23703425  0.31671433\n",
      "  0.27851441 -0.10086553  0.1305509   0.57003979 -0.06801958  0.05747774\n",
      "  0.62420905]\n"
     ]
    }
   ],
   "source": [
    "# Hitung nilai covariance matrix dari centered matrix\n",
    "# Cara hitung manual\n",
    "# A = (C.T.dot(C)/C.shape[0]-1)\n",
    "# Cara hitung covariance dengan menggunakan fungsi cov()\n",
    "A = cov(C.T)\n",
    "print(A[0])"
   ]
  },
  {
   "cell_type": "markdown",
   "id": "pretty-counter",
   "metadata": {},
   "source": [
    "Lakukan eigendecomposition dari matriks kovariansi $A$ agar diperoleh nilai eigen dan vektornya. Jika diketahui $V$ adalah eigenvectors, $\\lambda$ adalah eigenvalues, dan $I$ adalah matriks identitas dari matriks $A$.\n",
    "<br>\n",
    "\\begin{equation}\n",
    "AV=\\lambda V\n",
    "\\end{equation}\n",
    "\\begin{equation}\n",
    "(A-\\lambda I)V= 0\n",
    "\\end{equation}\n",
    "<br>\n",
    "Dengan mengasumsikan nili $v$ adalah non-zero maka diketahui $A-\\lambda I = 0$. Maka nilai $\\lambda$ dapat dicari dengan rumus berikut:\n",
    "\\begin{equation}\n",
    "|A-\\lambda I|= 0\n",
    "\\end{equation}\n",
    "<br>\n",
    "Selanjutnya dengan menggunakan nilai eigenvalues $\\lambda$ yang sudah diperoleh, hitung nilai eigenvectors $V$.\n"
   ]
  },
  {
   "cell_type": "code",
   "execution_count": 10,
   "id": "about-andrews",
   "metadata": {},
   "outputs": [
    {
     "data": {
      "text/plain": [
       "array([4.82894083, 2.52920254, 1.40778607, 0.97170248, 0.81772614,\n",
       "       0.64269609, 0.53904343, 0.09124383, 0.16401706, 0.32677915,\n",
       "       0.30227988, 0.22672631, 0.24405475])"
      ]
     },
     "execution_count": 10,
     "metadata": {},
     "output_type": "execute_result"
    }
   ],
   "source": [
    "# eigendecomposition of covariance matrix\n",
    "# pehitungan nilai eigenvalues dan eigenvectors dapat mudah dilakukan dengan menggunakan fungsi eig()\n",
    "values, vectors = eig(A)\n",
    "values"
   ]
  },
  {
   "cell_type": "code",
   "execution_count": 11,
   "id": "willing-airplane",
   "metadata": {},
   "outputs": [
    {
     "data": {
      "text/plain": [
       "array([ 0.12959991, -0.49807323,  0.1383815 , -0.24199813, -0.17279973,\n",
       "       -0.17873289, -0.09000534, -0.08850175, -0.26402263,  0.48169166,\n",
       "       -0.43303897,  0.2793571 ,  0.11125519])"
      ]
     },
     "execution_count": 11,
     "metadata": {},
     "output_type": "execute_result"
    }
   ],
   "source": [
    "vectors[0]"
   ]
  },
  {
   "cell_type": "markdown",
   "id": "signal-lender",
   "metadata": {},
   "source": [
    "Dengan menggunakan nilai eigenvectors $V$ yang sudah diperoleh maka kita akan memproyeksikan nilai $C$ ke dalam bidang baru. Untuk menentukan jumlah kolom $n$ hasil reduksi dimensi, maka kita harus memfilter jumlah kolom dari nilai eigenvectors $V$."
   ]
  },
  {
   "cell_type": "code",
   "execution_count": 12,
   "id": "demonstrated-provision",
   "metadata": {},
   "outputs": [
    {
     "data": {
      "text/plain": [
       "array([[-2.17884511e+00, -1.07218467e+00],\n",
       "       [-1.80819239e+00,  1.57822344e+00],\n",
       "       [ 1.09829474e+00,  2.22124345e+00],\n",
       "       [-2.55584748e+00, -1.66210369e+00],\n",
       "       [ 1.85698063e+00,  2.41573166e-01],\n",
       "       [ 2.58288576e+00, -1.37668170e+00],\n",
       "       [ 8.72876119e-01,  2.25618512e+00],\n",
       "       [-4.18384029e-01,  2.35415681e+00],\n",
       "       [-3.04977245e-01,  2.27659433e+00],\n",
       "       [ 2.14082532e+00, -1.10052871e+00],\n",
       "       [-2.98136465e+00, -2.47159183e-01],\n",
       "       [ 1.96188242e+00,  1.25407738e+00],\n",
       "       [-2.16177795e+00, -9.75966550e-01],\n",
       "       [ 2.21976084e+00, -2.39507167e+00],\n",
       "       [-2.30179529e+00, -2.05791962e-01],\n",
       "       [-3.00953827e+00, -2.79141212e-01],\n",
       "       [ 2.63443473e+00, -8.68313119e-01],\n",
       "       [-1.09219965e+00, -3.53906625e+00],\n",
       "       [ 2.62578435e+00, -2.96852840e-03],\n",
       "       [ 1.98077342e-01,  2.29193443e+00],\n",
       "       [-2.67442753e+00, -2.58800132e+00],\n",
       "       [-2.54763698e+00, -4.52703891e-01],\n",
       "       [ 1.77416736e+00,  8.43586940e-01],\n",
       "       [-2.77786938e+00, -4.32090258e-01],\n",
       "       [-2.86679938e+00, -1.87580875e+00],\n",
       "       [ 1.35498845e+00,  3.99545184e-02],\n",
       "       [-2.43900474e+00,  9.44074889e-02],\n",
       "       [-2.27268121e+00,  5.05883053e-01],\n",
       "       [ 1.17887166e+00,  2.50068415e+00],\n",
       "       [-2.30673313e+00,  1.30502777e+00],\n",
       "       [-2.53020738e+00, -5.51277126e-01],\n",
       "       [ 1.63200028e-01,  1.29107817e+00],\n",
       "       [ 2.57881158e+00, -1.17515982e+00],\n",
       "       [-7.62471566e-01,  3.16097049e+00],\n",
       "       [ 2.57005937e+00, -9.66718786e-02],\n",
       "       [-4.78337042e-01,  5.77763823e-01],\n",
       "       [ 5.47417096e-01, -3.77647780e-01],\n",
       "       [ 3.55763538e+00, -1.45816125e+00],\n",
       "       [ 1.69260971e+00,  1.37844174e+00],\n",
       "       [ 2.65288395e+00, -2.39399539e-01],\n",
       "       [-3.62047411e+00, -6.90153979e-01],\n",
       "       [-1.61462317e+00, -2.41170340e+00],\n",
       "       [ 1.50959767e+00,  1.32717326e+00],\n",
       "       [ 5.36413494e-02,  2.07680094e+00],\n",
       "       [-1.07889168e-01,  2.85115217e+00],\n",
       "       [-2.39610454e+00, -2.45883860e+00],\n",
       "       [-3.12315181e+00,  4.23261512e-01],\n",
       "       [ 3.28569649e+00, -3.22859884e-01],\n",
       "       [-3.55506872e+00, -1.74242946e+00],\n",
       "       [-3.87020538e-01,  2.61510101e+00],\n",
       "       [-4.74514016e-01,  1.98023790e+00],\n",
       "       [-1.06865761e+00,  6.78906271e-01],\n",
       "       [ 1.08546036e+00,  1.30817801e+00],\n",
       "       [ 2.02340107e+00,  1.56926094e+00],\n",
       "       [ 2.76257094e+00, -1.85603600e+00],\n",
       "       [ 2.06778286e+00, -1.35861191e+00],\n",
       "       [ 9.06600653e-01,  2.04110996e+00],\n",
       "       [ 3.52336455e+00, -1.39946872e+00],\n",
       "       [-3.79914321e+00, -4.92727617e-02],\n",
       "       [ 1.75250993e+00,  4.64283651e-01],\n",
       "       [-3.46539192e+00, -7.90385134e-01],\n",
       "       [ 3.16221605e+00, -8.39879111e-01],\n",
       "       [ 2.37656864e+00, -1.72475988e+00],\n",
       "       [ 1.31278073e+00,  8.53348760e-01],\n",
       "       [ 3.57258440e+00, -1.78091597e+00],\n",
       "       [ 9.50877158e-01,  2.38927332e+00],\n",
       "       [ 4.95461316e-01,  2.16498322e+00],\n",
       "       [ 3.79294638e+00, -2.92787186e+00],\n",
       "       [-2.37978591e+00, -2.13572422e+00],\n",
       "       [-1.50346992e+00,  1.39146991e+00],\n",
       "       [ 2.50566646e+00, -1.30365941e+00],\n",
       "       [-6.97535788e-01,  2.78160736e-01],\n",
       "       [-7.25562555e-01,  2.54007170e+00],\n",
       "       [ 9.24047324e-01,  1.46344718e+00],\n",
       "       [-1.25151294e+00,  2.74792621e-02],\n",
       "       [ 2.20937835e+00, -8.05690832e-01],\n",
       "       [-3.84416995e+00, -5.74263508e-01],\n",
       "       [-1.77983157e+00, -1.38012167e+00],\n",
       "       [ 4.35413058e+00, -2.33750318e+00],\n",
       "       [ 3.33834347e+00, -1.51169086e+00],\n",
       "       [-1.44769123e+00,  1.90826204e+00],\n",
       "       [-2.75066706e+00, -2.07100640e+00],\n",
       "       [ 2.79475799e+00, -1.36659228e+00],\n",
       "       [ 1.84642601e+00, -6.82481476e-01],\n",
       "       [-4.13332842e-01,  2.20440158e+00],\n",
       "       [-4.81356617e-02,  1.17469609e+00],\n",
       "       [ 1.99166500e+00, -2.50860656e-01],\n",
       "       [ 2.26421169e+00, -1.32120813e+00],\n",
       "       [ 7.85551414e-01, -2.46487051e-01],\n",
       "       [-3.32586984e+00, -2.14485564e+00],\n",
       "       [ 1.00496881e+00,  7.20390295e-01],\n",
       "       [ 2.31479633e+00,  2.62129546e-01],\n",
       "       [ 8.67032066e-01,  1.36440259e+00],\n",
       "       [-2.28629769e+00, -4.54244754e-01],\n",
       "       [ 3.14452871e+00, -1.29318898e+00],\n",
       "       [-1.65297942e+00,  1.74177394e+00],\n",
       "       [-2.84689388e+00, -7.78426712e-02],\n",
       "       [-2.68393126e+00, -2.53813173e-01],\n",
       "       [ 1.97280128e+00, -1.70171835e+00],\n",
       "       [ 1.63120111e+00,  7.24762688e-01],\n",
       "       [-2.05082836e+00, -2.11848206e-01],\n",
       "       [ 2.28798382e+00, -1.95899701e+00],\n",
       "       [-2.28266458e+00, -2.07243579e-01],\n",
       "       [-3.45079842e-01,  1.92360626e+00],\n",
       "       [ 1.49448758e+00, -7.18673825e-01],\n",
       "       [ 2.26695932e+00, -7.93531817e-01],\n",
       "       [-3.44673144e-01,  1.92686997e+00],\n",
       "       [ 2.75927029e+00, -1.56391999e+00],\n",
       "       [-2.86839562e+00, -1.85579453e+00],\n",
       "       [-1.46228982e+00,  1.22151405e+00],\n",
       "       [-3.31754434e+00, -1.20382601e+00],\n",
       "       [ 1.72057718e+00, -1.36843828e-01],\n",
       "       [-2.90065973e+00, -3.71521776e-01],\n",
       "       [-2.30532411e+00, -2.14386284e+00],\n",
       "       [-3.51377495e+00, -1.17981731e+00],\n",
       "       [ 2.32780065e+00, -2.95396131e-01],\n",
       "       [ 1.54528723e+00,  1.99996309e+00],\n",
       "       [-3.32660657e-01,  2.37118865e+00],\n",
       "       [ 4.96648201e-01,  9.57282660e-01],\n",
       "       [ 6.69654741e-01,  3.80907536e+00],\n",
       "       [-2.76009366e+00, -1.48785734e+00],\n",
       "       [-3.19187371e+00, -2.70815669e+00],\n",
       "       [-6.05023707e-01,  1.10583182e+00],\n",
       "       [-1.34006934e+00,  1.51232906e+00],\n",
       "       [ 1.05506599e+00, -9.49724036e-01],\n",
       "       [ 1.16017702e+00,  1.39768493e+00],\n",
       "       [-2.87675356e+00, -1.15157946e+00],\n",
       "       [-2.35838421e+00, -2.44842974e+00],\n",
       "       [ 2.54704855e+00, -1.86824592e+00],\n",
       "       [ 3.20597222e+00, -1.85912926e+00],\n",
       "       [-2.69949485e+00, -1.75638262e-01],\n",
       "       [-9.67436859e-01,  1.81399824e+00],\n",
       "       [-1.46454259e+00,  1.01680272e+00],\n",
       "       [-4.04000223e-01,  2.40815711e+00],\n",
       "       [ 1.46393837e+00, -6.90763351e-01],\n",
       "       [ 1.15903114e+00, -2.91379684e-01],\n",
       "       [ 2.82057099e+00, -8.99578955e-01],\n",
       "       [-5.01011897e-01,  2.68453162e+00],\n",
       "       [ 3.30453915e-01,  2.43396193e+00],\n",
       "       [ 1.09727608e-02,  1.99585453e+00],\n",
       "       [ 2.89176687e+00, -7.71555485e-01],\n",
       "       [-2.44830439e+00, -2.11360296e+00]])"
      ]
     },
     "execution_count": 12,
     "metadata": {},
     "output_type": "execute_result"
    }
   ],
   "source": [
    "# n adalah jumlah kolom yang akan dipertahankan \n",
    "n = 2\n",
    "# project data\n",
    "P = vectors[:,:n].T.dot(C.T)\n",
    "# fitur dari X_{train} yang sudah direduksi dimensinya\n",
    "P.T"
   ]
  },
  {
   "cell_type": "markdown",
   "id": "imported-preserve",
   "metadata": {},
   "source": [
    "Jika cara di atas sudah kita pahami, maka sekarang kita akan mencoba cara yang sama dengan menggunakan Singular Value Decomposition.\n",
    "<br>\n",
    "<br>\n",
    "**Singular Value Decomposition**\n",
    "<br>\n",
    "Dengan mengasumsikan nilai $C$ yang sudah dihitung di atas adalah sama untuk kasus SVD maka langkah tersebut akan diskip. Nilai SVD dari $C$ akan mendekomposisi matriks $C$ menjadi perkalian dari tiga buah matriks $U \\Sigma V_{t}$:\n",
    "<br>\n",
    "<br>\n",
    "\\begin{equation}\n",
    "C=U \\Sigma V_{t}\n",
    "\\end{equation}\n",
    "<br>\n",
    "Di mana $V_{t}$ berisikan unit vektor yang mendefinisikan semua principal component yang kita cari."
   ]
  },
  {
   "cell_type": "code",
   "execution_count": 13,
   "id": "occupied-prize",
   "metadata": {},
   "outputs": [],
   "source": [
    "# Hitung tiga matriks U, Sigma, dan V_{t} dengan menggunakan fungsi svd()\n",
    "U, s, Vt = np.linalg.svd(C)"
   ]
  },
  {
   "cell_type": "code",
   "execution_count": 14,
   "id": "difficult-frontier",
   "metadata": {},
   "outputs": [
    {
     "data": {
      "text/plain": [
       "array([ 0.08350084,  0.05677645, -0.00515055, -0.00726556, -0.10249886,\n",
       "        0.053176  , -0.11711607,  0.01996528,  0.07023893, -0.04043115,\n",
       "        0.02248334, -0.01643006, -0.12664126, -0.12649635,  0.00859837,\n",
       "       -0.06708685, -0.03878235, -0.11636508, -0.07416571,  0.116493  ,\n",
       "       -0.04273684, -0.00813397, -0.07032846, -0.03769567, -0.06623698,\n",
       "       -0.03551719,  0.04798828,  0.0144815 ,  0.08971387,  0.03972568,\n",
       "       -0.02113107, -0.08546711,  0.02599952,  0.00705455,  0.0564083 ,\n",
       "        0.05459768, -0.00142055, -0.077229  ,  0.15932931, -0.02977255,\n",
       "       -0.00318249, -0.04731033,  0.24555686,  0.11919727,  0.12865881,\n",
       "       -0.06567824,  0.04718453,  0.05880508,  0.00181925,  0.09168776,\n",
       "        0.02745573,  0.07826792,  0.20258853,  0.04942294, -0.06325643,\n",
       "       -0.07147905,  0.00771899, -0.11684869,  0.05198826, -0.01625879,\n",
       "       -0.05729915, -0.10934075, -0.11128849,  0.08251754, -0.10106688,\n",
       "        0.09839066,  0.02652841, -0.1439647 , -0.04539039,  0.08296883,\n",
       "       -0.13768879, -0.12600839,  0.12095549,  0.13233998, -0.01474575,\n",
       "       -0.06734981,  0.02543358, -0.0262747 , -0.10080973, -0.12699051,\n",
       "        0.10321323, -0.01013478, -0.1098937 , -0.10679804,  0.13329451,\n",
       "        0.04919425, -0.02821057, -0.04379756,  0.00115515, -0.08002039,\n",
       "        0.07056588, -0.04496645,  0.16250377, -0.08343601, -0.08938661,\n",
       "        0.08696442,  0.03280018,  0.03643755, -0.08117458, -0.00677667,\n",
       "        0.01767488, -0.11932613, -0.05935785,  0.1221295 , -0.0699534 ,\n",
       "       -0.11355682,  0.075779  , -0.04212843,  0.0110212 ,  0.14863324,\n",
       "        0.02233335, -0.05459152, -0.10759484, -0.03323181, -0.00210516,\n",
       "       -0.09898199,  0.12894095,  0.07496804,  0.04703119,  0.18755916,\n",
       "       -0.03781624, -0.12378189, -0.02998062,  0.07524669, -0.04169341,\n",
       "        0.05664117, -0.00174195, -0.07878257, -0.12858496, -0.05753409,\n",
       "       -0.05268847,  0.1270652 ,  0.07936758,  0.1022876 , -0.07726864,\n",
       "        0.00511733, -0.0771579 ,  0.1224306 ,  0.06285458,  0.07300738,\n",
       "       -0.04820764, -0.12723398])"
      ]
     },
     "execution_count": 14,
     "metadata": {},
     "output_type": "execute_result"
    }
   ],
   "source": [
    "U[0]"
   ]
  },
  {
   "cell_type": "code",
   "execution_count": 15,
   "id": "suspected-tuning",
   "metadata": {},
   "outputs": [
    {
     "data": {
      "text/plain": [
       "array([26.09369   , 18.88432045, 14.08892602, 11.7051292 , 10.73775516,\n",
       "        9.5194616 ,  8.71809177,  6.78792016,  6.52851154,  5.86615037,\n",
       "        5.65406131,  4.80899217,  3.58683432])"
      ]
     },
     "execution_count": 15,
     "metadata": {},
     "output_type": "execute_result"
    }
   ],
   "source": [
    "s"
   ]
  },
  {
   "cell_type": "code",
   "execution_count": 16,
   "id": "oriented-dodge",
   "metadata": {},
   "outputs": [
    {
     "data": {
      "text/plain": [
       "array([-0.12959991,  0.24464064,  0.01018912,  0.24051579, -0.12649451,\n",
       "       -0.38944115, -0.42757808,  0.30505669, -0.30775255,  0.11027186,\n",
       "       -0.30710508, -0.37636185, -0.2811085 ])"
      ]
     },
     "execution_count": 16,
     "metadata": {},
     "output_type": "execute_result"
    }
   ],
   "source": [
    "Vt[0]"
   ]
  },
  {
   "cell_type": "markdown",
   "id": "heated-indiana",
   "metadata": {},
   "source": [
    "Tentukan jumlah kolom $n$ hasil reduksi dimensi dari $V_{t}$, di mana hasil proyeksi dari proses reduksi dimensi dinyakan sebagai $X_{d}$ dan $W_{d}$ menyatakan jumlah kolom pertama $n$ dari $V_{t}$.\n",
    "<br>\n",
    "<br>\n",
    "\\begin{equation}\n",
    "X_{d}=CW_{d}\n",
    "\\end{equation}\n",
    "<br>"
   ]
  },
  {
   "cell_type": "code",
   "execution_count": 17,
   "id": "another-consensus",
   "metadata": {},
   "outputs": [
    {
     "data": {
      "text/plain": [
       "array([[ 2.17884511e+00,  1.07218467e+00],\n",
       "       [ 1.80819239e+00, -1.57822344e+00],\n",
       "       [-1.09829474e+00, -2.22124345e+00],\n",
       "       [ 2.55584748e+00,  1.66210369e+00],\n",
       "       [-1.85698063e+00, -2.41573166e-01],\n",
       "       [-2.58288576e+00,  1.37668170e+00],\n",
       "       [-8.72876119e-01, -2.25618512e+00],\n",
       "       [ 4.18384029e-01, -2.35415681e+00],\n",
       "       [ 3.04977245e-01, -2.27659433e+00],\n",
       "       [-2.14082532e+00,  1.10052871e+00],\n",
       "       [ 2.98136465e+00,  2.47159183e-01],\n",
       "       [-1.96188242e+00, -1.25407738e+00],\n",
       "       [ 2.16177795e+00,  9.75966550e-01],\n",
       "       [-2.21976084e+00,  2.39507167e+00],\n",
       "       [ 2.30179529e+00,  2.05791962e-01],\n",
       "       [ 3.00953827e+00,  2.79141212e-01],\n",
       "       [-2.63443473e+00,  8.68313119e-01],\n",
       "       [ 1.09219965e+00,  3.53906625e+00],\n",
       "       [-2.62578435e+00,  2.96852840e-03],\n",
       "       [-1.98077342e-01, -2.29193443e+00],\n",
       "       [ 2.67442753e+00,  2.58800132e+00],\n",
       "       [ 2.54763698e+00,  4.52703891e-01],\n",
       "       [-1.77416736e+00, -8.43586940e-01],\n",
       "       [ 2.77786938e+00,  4.32090258e-01],\n",
       "       [ 2.86679938e+00,  1.87580875e+00],\n",
       "       [-1.35498845e+00, -3.99545184e-02],\n",
       "       [ 2.43900474e+00, -9.44074889e-02],\n",
       "       [ 2.27268121e+00, -5.05883053e-01],\n",
       "       [-1.17887166e+00, -2.50068415e+00],\n",
       "       [ 2.30673313e+00, -1.30502777e+00],\n",
       "       [ 2.53020738e+00,  5.51277126e-01],\n",
       "       [-1.63200028e-01, -1.29107817e+00],\n",
       "       [-2.57881158e+00,  1.17515982e+00],\n",
       "       [ 7.62471566e-01, -3.16097049e+00],\n",
       "       [-2.57005937e+00,  9.66718786e-02],\n",
       "       [ 4.78337042e-01, -5.77763823e-01],\n",
       "       [-5.47417096e-01,  3.77647780e-01],\n",
       "       [-3.55763538e+00,  1.45816125e+00],\n",
       "       [-1.69260971e+00, -1.37844174e+00],\n",
       "       [-2.65288395e+00,  2.39399539e-01],\n",
       "       [ 3.62047411e+00,  6.90153979e-01],\n",
       "       [ 1.61462317e+00,  2.41170340e+00],\n",
       "       [-1.50959767e+00, -1.32717326e+00],\n",
       "       [-5.36413494e-02, -2.07680094e+00],\n",
       "       [ 1.07889168e-01, -2.85115217e+00],\n",
       "       [ 2.39610454e+00,  2.45883860e+00],\n",
       "       [ 3.12315181e+00, -4.23261512e-01],\n",
       "       [-3.28569649e+00,  3.22859884e-01],\n",
       "       [ 3.55506872e+00,  1.74242946e+00],\n",
       "       [ 3.87020538e-01, -2.61510101e+00],\n",
       "       [ 4.74514016e-01, -1.98023790e+00],\n",
       "       [ 1.06865761e+00, -6.78906271e-01],\n",
       "       [-1.08546036e+00, -1.30817801e+00],\n",
       "       [-2.02340107e+00, -1.56926094e+00],\n",
       "       [-2.76257094e+00,  1.85603600e+00],\n",
       "       [-2.06778286e+00,  1.35861191e+00],\n",
       "       [-9.06600653e-01, -2.04110996e+00],\n",
       "       [-3.52336455e+00,  1.39946872e+00],\n",
       "       [ 3.79914321e+00,  4.92727617e-02],\n",
       "       [-1.75250993e+00, -4.64283651e-01],\n",
       "       [ 3.46539192e+00,  7.90385134e-01],\n",
       "       [-3.16221605e+00,  8.39879111e-01],\n",
       "       [-2.37656864e+00,  1.72475988e+00],\n",
       "       [-1.31278073e+00, -8.53348760e-01],\n",
       "       [-3.57258440e+00,  1.78091597e+00],\n",
       "       [-9.50877158e-01, -2.38927332e+00],\n",
       "       [-4.95461316e-01, -2.16498322e+00],\n",
       "       [-3.79294638e+00,  2.92787186e+00],\n",
       "       [ 2.37978591e+00,  2.13572422e+00],\n",
       "       [ 1.50346992e+00, -1.39146991e+00],\n",
       "       [-2.50566646e+00,  1.30365941e+00],\n",
       "       [ 6.97535788e-01, -2.78160736e-01],\n",
       "       [ 7.25562555e-01, -2.54007170e+00],\n",
       "       [-9.24047324e-01, -1.46344718e+00],\n",
       "       [ 1.25151294e+00, -2.74792621e-02],\n",
       "       [-2.20937835e+00,  8.05690832e-01],\n",
       "       [ 3.84416995e+00,  5.74263508e-01],\n",
       "       [ 1.77983157e+00,  1.38012167e+00],\n",
       "       [-4.35413058e+00,  2.33750318e+00],\n",
       "       [-3.33834347e+00,  1.51169086e+00],\n",
       "       [ 1.44769123e+00, -1.90826204e+00],\n",
       "       [ 2.75066706e+00,  2.07100640e+00],\n",
       "       [-2.79475799e+00,  1.36659228e+00],\n",
       "       [-1.84642601e+00,  6.82481476e-01],\n",
       "       [ 4.13332842e-01, -2.20440158e+00],\n",
       "       [ 4.81356617e-02, -1.17469609e+00],\n",
       "       [-1.99166500e+00,  2.50860656e-01],\n",
       "       [-2.26421169e+00,  1.32120813e+00],\n",
       "       [-7.85551414e-01,  2.46487051e-01],\n",
       "       [ 3.32586984e+00,  2.14485564e+00],\n",
       "       [-1.00496881e+00, -7.20390295e-01],\n",
       "       [-2.31479633e+00, -2.62129546e-01],\n",
       "       [-8.67032066e-01, -1.36440259e+00],\n",
       "       [ 2.28629769e+00,  4.54244754e-01],\n",
       "       [-3.14452871e+00,  1.29318898e+00],\n",
       "       [ 1.65297942e+00, -1.74177394e+00],\n",
       "       [ 2.84689388e+00,  7.78426712e-02],\n",
       "       [ 2.68393126e+00,  2.53813173e-01],\n",
       "       [-1.97280128e+00,  1.70171835e+00],\n",
       "       [-1.63120111e+00, -7.24762688e-01],\n",
       "       [ 2.05082836e+00,  2.11848206e-01],\n",
       "       [-2.28798382e+00,  1.95899701e+00],\n",
       "       [ 2.28266458e+00,  2.07243579e-01],\n",
       "       [ 3.45079842e-01, -1.92360626e+00],\n",
       "       [-1.49448758e+00,  7.18673825e-01],\n",
       "       [-2.26695932e+00,  7.93531817e-01],\n",
       "       [ 3.44673144e-01, -1.92686997e+00],\n",
       "       [-2.75927029e+00,  1.56391999e+00],\n",
       "       [ 2.86839562e+00,  1.85579453e+00],\n",
       "       [ 1.46228982e+00, -1.22151405e+00],\n",
       "       [ 3.31754434e+00,  1.20382601e+00],\n",
       "       [-1.72057718e+00,  1.36843828e-01],\n",
       "       [ 2.90065973e+00,  3.71521776e-01],\n",
       "       [ 2.30532411e+00,  2.14386284e+00],\n",
       "       [ 3.51377495e+00,  1.17981731e+00],\n",
       "       [-2.32780065e+00,  2.95396131e-01],\n",
       "       [-1.54528723e+00, -1.99996309e+00],\n",
       "       [ 3.32660657e-01, -2.37118865e+00],\n",
       "       [-4.96648201e-01, -9.57282660e-01],\n",
       "       [-6.69654741e-01, -3.80907536e+00],\n",
       "       [ 2.76009366e+00,  1.48785734e+00],\n",
       "       [ 3.19187371e+00,  2.70815669e+00],\n",
       "       [ 6.05023707e-01, -1.10583182e+00],\n",
       "       [ 1.34006934e+00, -1.51232906e+00],\n",
       "       [-1.05506599e+00,  9.49724036e-01],\n",
       "       [-1.16017702e+00, -1.39768493e+00],\n",
       "       [ 2.87675356e+00,  1.15157946e+00],\n",
       "       [ 2.35838421e+00,  2.44842974e+00],\n",
       "       [-2.54704855e+00,  1.86824592e+00],\n",
       "       [-3.20597222e+00,  1.85912926e+00],\n",
       "       [ 2.69949485e+00,  1.75638262e-01],\n",
       "       [ 9.67436859e-01, -1.81399824e+00],\n",
       "       [ 1.46454259e+00, -1.01680272e+00],\n",
       "       [ 4.04000223e-01, -2.40815711e+00],\n",
       "       [-1.46393837e+00,  6.90763351e-01],\n",
       "       [-1.15903114e+00,  2.91379684e-01],\n",
       "       [-2.82057099e+00,  8.99578955e-01],\n",
       "       [ 5.01011897e-01, -2.68453162e+00],\n",
       "       [-3.30453915e-01, -2.43396193e+00],\n",
       "       [-1.09727608e-02, -1.99585453e+00],\n",
       "       [-2.89176687e+00,  7.71555485e-01],\n",
       "       [ 2.44830439e+00,  2.11360296e+00]])"
      ]
     },
     "execution_count": 17,
     "metadata": {},
     "output_type": "execute_result"
    }
   ],
   "source": [
    "# n adalah jumlah kolom yang akan dipertahankan \n",
    "n = 2\n",
    "# project data\n",
    "W_d = Vt.T[:,:n]\n",
    "X_d = C.dot(W_d)\n",
    "X_d"
   ]
  },
  {
   "cell_type": "markdown",
   "id": "antique-capability",
   "metadata": {},
   "source": [
    "Lihat hasilnya sama dengan yang menggunakan cara Eigen Decomposition. Sekarang kita akan bandingkan kedua hasil di atas dengan penggunaan library sklearn.decomposition: PCA"
   ]
  },
  {
   "cell_type": "markdown",
   "id": "resident-scratch",
   "metadata": {},
   "source": [
    "**Cara Sklearn**\n",
    "<br>\n",
    "Dengan menggunakan sklearn, cara panjang di atas dapat dipersingkat menjadi satu buah line of code saja"
   ]
  },
  {
   "cell_type": "code",
   "execution_count": 18,
   "id": "developing-disabled",
   "metadata": {},
   "outputs": [],
   "source": [
    "X = dataset.iloc[:, 0:13].values\n",
    "y = dataset.iloc[:, 13].values\n",
    "\n",
    "# Splitting the dataset into the Training set and Test set\n",
    "from sklearn.model_selection import train_test_split\n",
    "X_train, X_test, y_train, y_test = train_test_split(X, y, test_size = 0.2, random_state = 0)"
   ]
  },
  {
   "cell_type": "code",
   "execution_count": 19,
   "id": "accredited-disorder",
   "metadata": {},
   "outputs": [],
   "source": [
    "# Feature Scaling\n",
    "from sklearn.preprocessing import StandardScaler\n",
    "sc = StandardScaler()\n",
    "X_train = sc.fit_transform(X_train)\n",
    "X_test = sc.transform(X_test)"
   ]
  },
  {
   "cell_type": "code",
   "execution_count": 20,
   "id": "confident-saskatchewan",
   "metadata": {},
   "outputs": [
    {
     "data": {
      "text/plain": [
       "Index(['Alcohol', 'Malic_Acid', 'Ash', 'Ash_Alcanity', 'Magnesium',\n",
       "       'Total_Phenols', 'Flavanoids', 'Nonflavanoid_Phenols',\n",
       "       'Proanthocyanins', 'Color_Intensity', 'Hue', 'OD280', 'Proline',\n",
       "       'Customer_Segment'],\n",
       "      dtype='object')"
      ]
     },
     "execution_count": 20,
     "metadata": {},
     "output_type": "execute_result"
    }
   ],
   "source": [
    "dataset.columns"
   ]
  },
  {
   "cell_type": "code",
   "execution_count": 21,
   "id": "correct-ferry",
   "metadata": {},
   "outputs": [
    {
     "data": {
      "text/plain": [
       "array([[-2.17884511e+00, -1.07218467e+00],\n",
       "       [-1.80819239e+00,  1.57822344e+00],\n",
       "       [ 1.09829474e+00,  2.22124345e+00],\n",
       "       [-2.55584748e+00, -1.66210369e+00],\n",
       "       [ 1.85698063e+00,  2.41573166e-01],\n",
       "       [ 2.58288576e+00, -1.37668170e+00],\n",
       "       [ 8.72876119e-01,  2.25618512e+00],\n",
       "       [-4.18384029e-01,  2.35415681e+00],\n",
       "       [-3.04977245e-01,  2.27659433e+00],\n",
       "       [ 2.14082532e+00, -1.10052871e+00],\n",
       "       [-2.98136465e+00, -2.47159183e-01],\n",
       "       [ 1.96188242e+00,  1.25407738e+00],\n",
       "       [-2.16177795e+00, -9.75966550e-01],\n",
       "       [ 2.21976084e+00, -2.39507167e+00],\n",
       "       [-2.30179529e+00, -2.05791962e-01],\n",
       "       [-3.00953827e+00, -2.79141212e-01],\n",
       "       [ 2.63443473e+00, -8.68313119e-01],\n",
       "       [-1.09219965e+00, -3.53906625e+00],\n",
       "       [ 2.62578435e+00, -2.96852840e-03],\n",
       "       [ 1.98077342e-01,  2.29193443e+00],\n",
       "       [-2.67442753e+00, -2.58800132e+00],\n",
       "       [-2.54763698e+00, -4.52703891e-01],\n",
       "       [ 1.77416736e+00,  8.43586940e-01],\n",
       "       [-2.77786938e+00, -4.32090258e-01],\n",
       "       [-2.86679938e+00, -1.87580875e+00],\n",
       "       [ 1.35498845e+00,  3.99545184e-02],\n",
       "       [-2.43900474e+00,  9.44074889e-02],\n",
       "       [-2.27268121e+00,  5.05883053e-01],\n",
       "       [ 1.17887166e+00,  2.50068415e+00],\n",
       "       [-2.30673313e+00,  1.30502777e+00],\n",
       "       [-2.53020738e+00, -5.51277126e-01],\n",
       "       [ 1.63200028e-01,  1.29107817e+00],\n",
       "       [ 2.57881158e+00, -1.17515982e+00],\n",
       "       [-7.62471566e-01,  3.16097049e+00],\n",
       "       [ 2.57005937e+00, -9.66718786e-02],\n",
       "       [-4.78337042e-01,  5.77763823e-01],\n",
       "       [ 5.47417096e-01, -3.77647780e-01],\n",
       "       [ 3.55763538e+00, -1.45816125e+00],\n",
       "       [ 1.69260971e+00,  1.37844174e+00],\n",
       "       [ 2.65288395e+00, -2.39399539e-01],\n",
       "       [-3.62047411e+00, -6.90153979e-01],\n",
       "       [-1.61462317e+00, -2.41170340e+00],\n",
       "       [ 1.50959767e+00,  1.32717326e+00],\n",
       "       [ 5.36413494e-02,  2.07680094e+00],\n",
       "       [-1.07889168e-01,  2.85115217e+00],\n",
       "       [-2.39610454e+00, -2.45883860e+00],\n",
       "       [-3.12315181e+00,  4.23261512e-01],\n",
       "       [ 3.28569649e+00, -3.22859884e-01],\n",
       "       [-3.55506872e+00, -1.74242946e+00],\n",
       "       [-3.87020538e-01,  2.61510101e+00],\n",
       "       [-4.74514016e-01,  1.98023790e+00],\n",
       "       [-1.06865761e+00,  6.78906271e-01],\n",
       "       [ 1.08546036e+00,  1.30817801e+00],\n",
       "       [ 2.02340107e+00,  1.56926094e+00],\n",
       "       [ 2.76257094e+00, -1.85603600e+00],\n",
       "       [ 2.06778286e+00, -1.35861191e+00],\n",
       "       [ 9.06600653e-01,  2.04110996e+00],\n",
       "       [ 3.52336455e+00, -1.39946872e+00],\n",
       "       [-3.79914321e+00, -4.92727617e-02],\n",
       "       [ 1.75250993e+00,  4.64283651e-01],\n",
       "       [-3.46539192e+00, -7.90385134e-01],\n",
       "       [ 3.16221605e+00, -8.39879111e-01],\n",
       "       [ 2.37656864e+00, -1.72475988e+00],\n",
       "       [ 1.31278073e+00,  8.53348760e-01],\n",
       "       [ 3.57258440e+00, -1.78091597e+00],\n",
       "       [ 9.50877158e-01,  2.38927332e+00],\n",
       "       [ 4.95461316e-01,  2.16498322e+00],\n",
       "       [ 3.79294638e+00, -2.92787186e+00],\n",
       "       [-2.37978591e+00, -2.13572422e+00],\n",
       "       [-1.50346992e+00,  1.39146991e+00],\n",
       "       [ 2.50566646e+00, -1.30365941e+00],\n",
       "       [-6.97535788e-01,  2.78160736e-01],\n",
       "       [-7.25562555e-01,  2.54007170e+00],\n",
       "       [ 9.24047324e-01,  1.46344718e+00],\n",
       "       [-1.25151294e+00,  2.74792621e-02],\n",
       "       [ 2.20937835e+00, -8.05690832e-01],\n",
       "       [-3.84416995e+00, -5.74263508e-01],\n",
       "       [-1.77983157e+00, -1.38012167e+00],\n",
       "       [ 4.35413058e+00, -2.33750318e+00],\n",
       "       [ 3.33834347e+00, -1.51169086e+00],\n",
       "       [-1.44769123e+00,  1.90826204e+00],\n",
       "       [-2.75066706e+00, -2.07100640e+00],\n",
       "       [ 2.79475799e+00, -1.36659228e+00],\n",
       "       [ 1.84642601e+00, -6.82481476e-01],\n",
       "       [-4.13332842e-01,  2.20440158e+00],\n",
       "       [-4.81356617e-02,  1.17469609e+00],\n",
       "       [ 1.99166500e+00, -2.50860656e-01],\n",
       "       [ 2.26421169e+00, -1.32120813e+00],\n",
       "       [ 7.85551414e-01, -2.46487051e-01],\n",
       "       [-3.32586984e+00, -2.14485564e+00],\n",
       "       [ 1.00496881e+00,  7.20390295e-01],\n",
       "       [ 2.31479633e+00,  2.62129546e-01],\n",
       "       [ 8.67032066e-01,  1.36440259e+00],\n",
       "       [-2.28629769e+00, -4.54244754e-01],\n",
       "       [ 3.14452871e+00, -1.29318898e+00],\n",
       "       [-1.65297942e+00,  1.74177394e+00],\n",
       "       [-2.84689388e+00, -7.78426712e-02],\n",
       "       [-2.68393126e+00, -2.53813173e-01],\n",
       "       [ 1.97280128e+00, -1.70171835e+00],\n",
       "       [ 1.63120111e+00,  7.24762688e-01],\n",
       "       [-2.05082836e+00, -2.11848206e-01],\n",
       "       [ 2.28798382e+00, -1.95899701e+00],\n",
       "       [-2.28266458e+00, -2.07243579e-01],\n",
       "       [-3.45079842e-01,  1.92360626e+00],\n",
       "       [ 1.49448758e+00, -7.18673825e-01],\n",
       "       [ 2.26695932e+00, -7.93531817e-01],\n",
       "       [-3.44673144e-01,  1.92686997e+00],\n",
       "       [ 2.75927029e+00, -1.56391999e+00],\n",
       "       [-2.86839562e+00, -1.85579453e+00],\n",
       "       [-1.46228982e+00,  1.22151405e+00],\n",
       "       [-3.31754434e+00, -1.20382601e+00],\n",
       "       [ 1.72057718e+00, -1.36843828e-01],\n",
       "       [-2.90065973e+00, -3.71521776e-01],\n",
       "       [-2.30532411e+00, -2.14386284e+00],\n",
       "       [-3.51377495e+00, -1.17981731e+00],\n",
       "       [ 2.32780065e+00, -2.95396131e-01],\n",
       "       [ 1.54528723e+00,  1.99996309e+00],\n",
       "       [-3.32660657e-01,  2.37118865e+00],\n",
       "       [ 4.96648201e-01,  9.57282660e-01],\n",
       "       [ 6.69654741e-01,  3.80907536e+00],\n",
       "       [-2.76009366e+00, -1.48785734e+00],\n",
       "       [-3.19187371e+00, -2.70815669e+00],\n",
       "       [-6.05023707e-01,  1.10583182e+00],\n",
       "       [-1.34006934e+00,  1.51232906e+00],\n",
       "       [ 1.05506599e+00, -9.49724036e-01],\n",
       "       [ 1.16017702e+00,  1.39768493e+00],\n",
       "       [-2.87675356e+00, -1.15157946e+00],\n",
       "       [-2.35838421e+00, -2.44842974e+00],\n",
       "       [ 2.54704855e+00, -1.86824592e+00],\n",
       "       [ 3.20597222e+00, -1.85912926e+00],\n",
       "       [-2.69949485e+00, -1.75638262e-01],\n",
       "       [-9.67436859e-01,  1.81399824e+00],\n",
       "       [-1.46454259e+00,  1.01680272e+00],\n",
       "       [-4.04000223e-01,  2.40815711e+00],\n",
       "       [ 1.46393837e+00, -6.90763351e-01],\n",
       "       [ 1.15903114e+00, -2.91379684e-01],\n",
       "       [ 2.82057099e+00, -8.99578955e-01],\n",
       "       [-5.01011897e-01,  2.68453162e+00],\n",
       "       [ 3.30453915e-01,  2.43396193e+00],\n",
       "       [ 1.09727608e-02,  1.99585453e+00],\n",
       "       [ 2.89176687e+00, -7.71555485e-01],\n",
       "       [-2.44830439e+00, -2.11360296e+00]])"
      ]
     },
     "execution_count": 21,
     "metadata": {},
     "output_type": "execute_result"
    }
   ],
   "source": [
    "# Applying PCA\n",
    "from sklearn.decomposition import PCA\n",
    "# selain memasukkan jumlah, bisa juga dimasukkan jumlah persen cummulative sum saja, nilainya antara 0 sampai 1\n",
    "pca = PCA(n_components = 2)\n",
    "X_train = pca.fit_transform(X_train)\n",
    "X_test = pca.transform(X_test)\n",
    "X_train"
   ]
  },
  {
   "cell_type": "markdown",
   "id": "mysterious-universal",
   "metadata": {},
   "source": [
    "Cara untuk menentukan jumlah komponen yang diperlukan dengan menghitung cummulative sum"
   ]
  },
  {
   "cell_type": "code",
   "execution_count": 22,
   "id": "apart-dealer",
   "metadata": {},
   "outputs": [
    {
     "name": "stdout",
     "output_type": "stream",
     "text": [
      "[0.36884109 0.19318394]\n",
      "[0.36884109 0.56202504]\n"
     ]
    }
   ],
   "source": [
    "#print(pca.explained_variance_) \n",
    "print(pca.explained_variance_ratio_) \n",
    "print(pca.explained_variance_ratio_.cumsum()) "
   ]
  },
  {
   "cell_type": "code",
   "execution_count": 23,
   "id": "caring-surname",
   "metadata": {},
   "outputs": [
    {
     "name": "stderr",
     "output_type": "stream",
     "text": [
      "*c* argument looks like a single numeric RGB or RGBA sequence, which should be avoided as value-mapping will have precedence in case its length matches with *x* & *y*.  Please use the *color* keyword-argument or provide a 2D array with a single row if you intend to specify the same RGB or RGBA value for all points.\n",
      "*c* argument looks like a single numeric RGB or RGBA sequence, which should be avoided as value-mapping will have precedence in case its length matches with *x* & *y*.  Please use the *color* keyword-argument or provide a 2D array with a single row if you intend to specify the same RGB or RGBA value for all points.\n",
      "*c* argument looks like a single numeric RGB or RGBA sequence, which should be avoided as value-mapping will have precedence in case its length matches with *x* & *y*.  Please use the *color* keyword-argument or provide a 2D array with a single row if you intend to specify the same RGB or RGBA value for all points.\n"
     ]
    },
    {
     "data": {
      "image/png": "[encoded data removed]",
      "text/plain": [
       "<Figure size 640x480 with 1 Axes>"
      ]
     },
     "metadata": {},
     "output_type": "display_data"
    },
    {
     "name": "stderr",
     "output_type": "stream",
     "text": [
      "*c* argument looks like a single numeric RGB or RGBA sequence, which should be avoided as value-mapping will have precedence in case its length matches with *x* & *y*.  Please use the *color* keyword-argument or provide a 2D array with a single row if you intend to specify the same RGB or RGBA value for all points.\n",
      "*c* argument looks like a single numeric RGB or RGBA sequence, which should be avoided as value-mapping will have precedence in case its length matches with *x* & *y*.  Please use the *color* keyword-argument or provide a 2D array with a single row if you intend to specify the same RGB or RGBA value for all points.\n",
      "*c* argument looks like a single numeric RGB or RGBA sequence, which should be avoided as value-mapping will have precedence in case its length matches with *x* & *y*.  Please use the *color* keyword-argument or provide a 2D array with a single row if you intend to specify the same RGB or RGBA value for all points.\n"
     ]
    },
    {
     "data": {
      "image/png": "[encoded data removed]",
      "text/plain": [
       "<Figure size 640x480 with 1 Axes>"
      ]
     },
     "metadata": {},
     "output_type": "display_data"
    }
   ],
   "source": [
    "# Fitting Logistic Regression to the Training set\n",
    "from sklearn.linear_model import LogisticRegression\n",
    "classifier = LogisticRegression(random_state = 0)\n",
    "classifier.fit(X_train, y_train)\n",
    "\n",
    "# Predicting the Test set results\n",
    "y_pred = classifier.predict(X_test)\n",
    "\n",
    "# Making the Confusion Matrix\n",
    "from sklearn.metrics import confusion_matrix\n",
    "cm = confusion_matrix(y_test, y_pred)\n",
    "\n",
    "# Visualising the Training set results\n",
    "from matplotlib.colors import ListedColormap\n",
    "X_set, y_set = X_train, y_train\n",
    "X1, X2 = np.meshgrid(np.arange(start = X_set[:, 0].min() - 1, stop = X_set[:, 0].max() + 1, step = 0.01),\n",
    "                     np.arange(start = X_set[:, 1].min() - 1, stop = X_set[:, 1].max() + 1, step = 0.01))\n",
    "plt.contourf(X1, X2, classifier.predict(np.array([X1.ravel(), X2.ravel()]).T).reshape(X1.shape),\n",
    "             alpha = 0.75, cmap = ListedColormap(('red', 'green', 'blue')))\n",
    "plt.xlim(X1.min(), X1.max())\n",
    "plt.ylim(X2.min(), X2.max())\n",
    "for i, j in enumerate(np.unique(y_set)):\n",
    "    plt.scatter(X_set[y_set == j, 0], X_set[y_set == j, 1],\n",
    "                c = ListedColormap(('red', 'green', 'blue'))(i), label = j)\n",
    "plt.title('Logistic Regression (Training set)')\n",
    "plt.xlabel('PC1')\n",
    "plt.ylabel('PC2')\n",
    "plt.legend()\n",
    "plt.show()\n",
    "\n",
    "# Visualising the Test set results\n",
    "from matplotlib.colors import ListedColormap\n",
    "X_set, y_set = X_test, y_test\n",
    "X1, X2 = np.meshgrid(np.arange(start = X_set[:, 0].min() - 1, stop = X_set[:, 0].max() + 1, step = 0.01),\n",
    "                     np.arange(start = X_set[:, 1].min() - 1, stop = X_set[:, 1].max() + 1, step = 0.01))\n",
    "plt.contourf(X1, X2, classifier.predict(np.array([X1.ravel(), X2.ravel()]).T).reshape(X1.shape),\n",
    "             alpha = 0.75, cmap = ListedColormap(('red', 'green', 'blue')))\n",
    "plt.xlim(X1.min(), X1.max())\n",
    "plt.ylim(X2.min(), X2.max())\n",
    "for i, j in enumerate(np.unique(y_set)):\n",
    "    plt.scatter(X_set[y_set == j, 0], X_set[y_set == j, 1],\n",
    "                c = ListedColormap(('red', 'green', 'blue'))(i), label = j)\n",
    "plt.title('Logistic Regression (Test set)')\n",
    "plt.xlabel('PC1')\n",
    "plt.ylabel('PC2')\n",
    "plt.legend()\n",
    "plt.show()"
   ]
  },
  {
   "cell_type": "markdown",
   "id": "solid-seeker",
   "metadata": {},
   "source": [
    "Dari hasil di atas kita sudah melihat suatu data yang memiliki banyak kolom dapat kita reduksi jumlah kolomnya sehingga menjadi lebih mudah untuk dilakukan proses klasifikasi serta membantu juga untuk proses visualisasinya."
   ]
  },
  {
   "cell_type": "markdown",
   "id": "documented-swimming",
   "metadata": {},
   "source": [
    "## Kernel PCA"
   ]
  },
  {
   "cell_type": "code",
   "execution_count": 24,
   "id": "ancient-orlando",
   "metadata": {},
   "outputs": [],
   "source": [
    "from sklearn.datasets import make_swiss_roll\n",
    "X, t = make_swiss_roll(n_samples=1000, noise=0.2, random_state=42)"
   ]
  },
  {
   "cell_type": "code",
   "execution_count": 25,
   "id": "continental-dialogue",
   "metadata": {},
   "outputs": [],
   "source": [
    "from sklearn.decomposition import KernelPCA\n",
    "\n",
    "rbf_pca = KernelPCA(n_components = 2, kernel=\"rbf\", gamma=0.04)\n",
    "X_reduced = rbf_pca.fit_transform(X)"
   ]
  },
  {
   "cell_type": "code",
   "execution_count": 26,
   "id": "subject-cancellation",
   "metadata": {},
   "outputs": [
    {
     "data": {
      "image/png": "[encoded data removed]",
      "text/plain": [
       "<Figure size 1100x400 with 3 Axes>"
      ]
     },
     "metadata": {},
     "output_type": "display_data"
    }
   ],
   "source": [
    "from sklearn.decomposition import KernelPCA\n",
    "\n",
    "lin_pca = KernelPCA(n_components = 2, kernel=\"linear\", fit_inverse_transform=True)\n",
    "rbf_pca = KernelPCA(n_components = 2, kernel=\"rbf\", gamma=0.0433, fit_inverse_transform=True)\n",
    "sig_pca = KernelPCA(n_components = 2, kernel=\"sigmoid\", gamma=0.001, coef0=1, fit_inverse_transform=True)\n",
    "\n",
    "y = t > 6.9\n",
    "\n",
    "plt.figure(figsize=(11, 4))\n",
    "for subplot, pca, title in ((131, lin_pca, \"Linear kernel\"), (132, rbf_pca, \"RBF kernel, $\\gamma=0.04$\"), (133, sig_pca, \"Sigmoid kernel, $\\gamma=10^{-3}, r=1$\")):\n",
    "    X_reduced = pca.fit_transform(X)\n",
    "    if subplot == 132:\n",
    "        X_reduced_rbf = X_reduced\n",
    "    \n",
    "    plt.subplot(subplot)\n",
    "    #plt.plot(X_reduced[y, 0], X_reduced[y, 1], \"gs\")\n",
    "    #plt.plot(X_reduced[~y, 0], X_reduced[~y, 1], \"y^\")\n",
    "    plt.title(title, fontsize=14)\n",
    "    plt.scatter(X_reduced[:, 0], X_reduced[:, 1], c=t, cmap=plt.cm.hot)\n",
    "    plt.xlabel(\"$z_1$\", fontsize=18)\n",
    "    if subplot == 131:\n",
    "        plt.ylabel(\"$z_2$\", fontsize=18, rotation=0)\n",
    "    plt.grid(True)\n",
    "\n",
    "plt.show()"
   ]
  },
  {
   "cell_type": "code",
   "execution_count": 27,
   "id": "valuable-hearts",
   "metadata": {},
   "outputs": [
    {
     "data": {
      "text/plain": [
       "GridSearchCV(cv=3,\n",
       "             estimator=Pipeline(steps=[('kpca', KernelPCA(n_components=2)),\n",
       "                                       ('log_reg', LogisticRegression())]),\n",
       "             param_grid=[{'kpca__gamma': array([0.01      , 0.01444444, 0.01888889, 0.02333333, 0.02777778,\n",
       "       0.03222222, 0.03666667, 0.04111111, 0.04555556, 0.05      ]),\n",
       "                          'kpca__kernel': ['rbf', 'sigmoid']}])"
      ]
     },
     "execution_count": 27,
     "metadata": {},
     "output_type": "execute_result"
    }
   ],
   "source": [
    "\n",
    "from sklearn.model_selection import GridSearchCV\n",
    "from sklearn.linear_model import LogisticRegression\n",
    "from sklearn.pipeline import Pipeline\n",
    "\n",
    "clf = Pipeline([\n",
    "        (\"kpca\", KernelPCA(n_components=2)),\n",
    "        (\"log_reg\", LogisticRegression(solver=\"lbfgs\"))\n",
    "    ])\n",
    "\n",
    "param_grid = [{\n",
    "        \"kpca__gamma\": np.linspace(0.01, 0.05, 10),\n",
    "        \"kpca__kernel\": [\"rbf\", \"sigmoid\"]\n",
    "    }]\n",
    "\n",
    "grid_search = GridSearchCV(clf, param_grid, cv=3)\n",
    "grid_search.fit(X, y)"
   ]
  },
  {
   "cell_type": "code",
   "execution_count": 28,
   "id": "planned-entrepreneur",
   "metadata": {},
   "outputs": [
    {
     "name": "stdout",
     "output_type": "stream",
     "text": [
      "{'kpca__gamma': 0.04555555555555556, 'kpca__kernel': 'rbf'}\n"
     ]
    }
   ],
   "source": [
    "print(grid_search.best_params_)"
   ]
  },
  {
   "cell_type": "code",
   "execution_count": 29,
   "id": "smooth-albuquerque",
   "metadata": {},
   "outputs": [],
   "source": [
    "rbf_pca = KernelPCA(n_components = 2, kernel=\"rbf\", gamma=0.0433,\n",
    "                    fit_inverse_transform=True)\n",
    "X_reduced = rbf_pca.fit_transform(X)\n",
    "X_preimage = rbf_pca.inverse_transform(X_reduced)"
   ]
  },
  {
   "cell_type": "code",
   "execution_count": 30,
   "id": "resistant-governor",
   "metadata": {},
   "outputs": [
    {
     "data": {
      "text/plain": [
       "32.786308795766104"
      ]
     },
     "execution_count": 30,
     "metadata": {},
     "output_type": "execute_result"
    }
   ],
   "source": [
    "from sklearn.metrics import mean_squared_error\n",
    "\n",
    "mean_squared_error(X, X_preimage)"
   ]
  }
 ],
 "metadata": {
  "kernelspec": {
   "display_name": "Python 3 (ipykernel)",
   "language": "python",
   "name": "python3"
  },
  "language_info": {
   "codemirror_mode": {
    "name": "ipython",
    "version": 3
   },
   "file_extension": ".py",
   "mimetype": "text/x-python",
   "name": "python",
   "nbconvert_exporter": "python",
   "pygments_lexer": "ipython3",
   "version": "3.9.13"
  }
 },
 "nbformat": 4,
 "nbformat_minor": 5
}
