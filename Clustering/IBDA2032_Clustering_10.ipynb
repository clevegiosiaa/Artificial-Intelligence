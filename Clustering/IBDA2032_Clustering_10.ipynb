{
 "cells": [
  {
   "cell_type": "markdown",
   "metadata": {
    "id": "mIjfj6crPIgg"
   },
   "source": [
    "# I. K-Means Clustering\n",
    "\n",
    "Dalam tugas ini anda akan membandingkan 2 jenis metode clustering yang paling populer. Berikut disediakan data statistik umum dari setiap provinsi di indonesia. Tugas anda adalah membuat pengelompokan provinsi berdasarkan data berikut. "
   ]
  },
  {
   "cell_type": "code",
   "execution_count": 3,
   "metadata": {
    "executionInfo": {
     "elapsed": 1389,
     "status": "ok",
     "timestamp": 1649505340524,
     "user": {
      "displayName": "Yozef Giovanni Tjandra",
      "userId": "03277432154125538365"
     },
     "user_tz": -420
    },
    "id": "-U_Qun3HOu9S"
   },
   "outputs": [],
   "source": [
    "import numpy as np\n",
    "import matplotlib.pyplot as plt\n",
    "import seaborn as sns\n",
    "import pandas as pd"
   ]
  },
  {
   "cell_type": "markdown",
   "metadata": {},
   "source": [
    "### Dataset"
   ]
  },
  {
   "cell_type": "code",
   "execution_count": 4,
   "metadata": {
    "colab": {
     "base_uri": "https://localhost:8080/",
     "height": 1000
    },
    "executionInfo": {
     "elapsed": 576,
     "status": "ok",
     "timestamp": 1649506077341,
     "user": {
      "displayName": "Yozef Giovanni Tjandra",
      "userId": "03277432154125538365"
     },
     "user_tz": -420
    },
    "id": "W0OMyVaxLdEN",
    "outputId": "f91f60a6-4363-4732-bcc0-24d186ba239e"
   },
   "outputs": [
    {
     "data": {
      "text/html": [
       "<div>\n",
       "<style scoped>\n",
       "    .dataframe tbody tr th:only-of-type {\n",
       "        vertical-align: middle;\n",
       "    }\n",
       "\n",
       "    .dataframe tbody tr th {\n",
       "        vertical-align: top;\n",
       "    }\n",
       "\n",
       "    .dataframe thead th {\n",
       "        text-align: right;\n",
       "    }\n",
       "</style>\n",
       "<table border=\"1\" class=\"dataframe\">\n",
       "  <thead>\n",
       "    <tr style=\"text-align: right;\">\n",
       "      <th></th>\n",
       "      <th>province_id</th>\n",
       "      <th>province_name</th>\n",
       "      <th>population</th>\n",
       "      <th>population_kmsquare</th>\n",
       "      <th>confirmed</th>\n",
       "      <th>deceased</th>\n",
       "      <th>released</th>\n",
       "      <th>longitude</th>\n",
       "      <th>latitude</th>\n",
       "    </tr>\n",
       "  </thead>\n",
       "  <tbody>\n",
       "    <tr>\n",
       "      <th>0</th>\n",
       "      <td>1</td>\n",
       "      <td>Aceh</td>\n",
       "      <td>4906835</td>\n",
       "      <td>86</td>\n",
       "      <td>4</td>\n",
       "      <td>0</td>\n",
       "      <td>0</td>\n",
       "      <td>96.720</td>\n",
       "      <td>3.869000</td>\n",
       "    </tr>\n",
       "    <tr>\n",
       "      <th>1</th>\n",
       "      <td>2</td>\n",
       "      <td>Bali</td>\n",
       "      <td>4104900</td>\n",
       "      <td>738</td>\n",
       "      <td>9</td>\n",
       "      <td>2</td>\n",
       "      <td>0</td>\n",
       "      <td>115.120</td>\n",
       "      <td>-8.250000</td>\n",
       "    </tr>\n",
       "    <tr>\n",
       "      <th>2</th>\n",
       "      <td>3</td>\n",
       "      <td>Banten</td>\n",
       "      <td>11704877</td>\n",
       "      <td>1298</td>\n",
       "      <td>84</td>\n",
       "      <td>4</td>\n",
       "      <td>1</td>\n",
       "      <td>106.160</td>\n",
       "      <td>-6.315000</td>\n",
       "    </tr>\n",
       "    <tr>\n",
       "      <th>3</th>\n",
       "      <td>4</td>\n",
       "      <td>Bengkulu</td>\n",
       "      <td>1844800</td>\n",
       "      <td>93</td>\n",
       "      <td>0</td>\n",
       "      <td>0</td>\n",
       "      <td>0</td>\n",
       "      <td>102.315</td>\n",
       "      <td>-3.414000</td>\n",
       "    </tr>\n",
       "    <tr>\n",
       "      <th>4</th>\n",
       "      <td>5</td>\n",
       "      <td>DI Yogyakarta</td>\n",
       "      <td>3553100</td>\n",
       "      <td>1134</td>\n",
       "      <td>22</td>\n",
       "      <td>2</td>\n",
       "      <td>1</td>\n",
       "      <td>110.390</td>\n",
       "      <td>-7.863000</td>\n",
       "    </tr>\n",
       "    <tr>\n",
       "      <th>5</th>\n",
       "      <td>6</td>\n",
       "      <td>DKI Jakarta</td>\n",
       "      <td>10012271</td>\n",
       "      <td>1353</td>\n",
       "      <td>598</td>\n",
       "      <td>51</td>\n",
       "      <td>31</td>\n",
       "      <td>106.853</td>\n",
       "      <td>-6.162000</td>\n",
       "    </tr>\n",
       "    <tr>\n",
       "      <th>6</th>\n",
       "      <td>7</td>\n",
       "      <td>Gorontalo</td>\n",
       "      <td>1115633</td>\n",
       "      <td>93</td>\n",
       "      <td>0</td>\n",
       "      <td>0</td>\n",
       "      <td>0</td>\n",
       "      <td>123.134</td>\n",
       "      <td>0.637194</td>\n",
       "    </tr>\n",
       "    <tr>\n",
       "      <th>7</th>\n",
       "      <td>8</td>\n",
       "      <td>Jambi</td>\n",
       "      <td>3344400</td>\n",
       "      <td>63</td>\n",
       "      <td>1</td>\n",
       "      <td>0</td>\n",
       "      <td>0</td>\n",
       "      <td>103.623</td>\n",
       "      <td>-1.625000</td>\n",
       "    </tr>\n",
       "    <tr>\n",
       "      <th>8</th>\n",
       "      <td>9</td>\n",
       "      <td>Jawa Barat</td>\n",
       "      <td>46029668</td>\n",
       "      <td>1306</td>\n",
       "      <td>98</td>\n",
       "      <td>14</td>\n",
       "      <td>5</td>\n",
       "      <td>107.633</td>\n",
       "      <td>-7.144000</td>\n",
       "    </tr>\n",
       "    <tr>\n",
       "      <th>9</th>\n",
       "      <td>10</td>\n",
       "      <td>Jawa Tengah</td>\n",
       "      <td>33522663</td>\n",
       "      <td>986</td>\n",
       "      <td>43</td>\n",
       "      <td>6</td>\n",
       "      <td>0</td>\n",
       "      <td>110.100</td>\n",
       "      <td>-7.209900</td>\n",
       "    </tr>\n",
       "    <tr>\n",
       "      <th>10</th>\n",
       "      <td>11</td>\n",
       "      <td>Jawa Timur</td>\n",
       "      <td>38610202</td>\n",
       "      <td>806</td>\n",
       "      <td>66</td>\n",
       "      <td>4</td>\n",
       "      <td>8</td>\n",
       "      <td>112.269</td>\n",
       "      <td>-7.525000</td>\n",
       "    </tr>\n",
       "    <tr>\n",
       "      <th>11</th>\n",
       "      <td>12</td>\n",
       "      <td>Kalimantan Barat</td>\n",
       "      <td>4716093</td>\n",
       "      <td>41</td>\n",
       "      <td>4</td>\n",
       "      <td>0</td>\n",
       "      <td>0</td>\n",
       "      <td>109.797</td>\n",
       "      <td>0.043945</td>\n",
       "    </tr>\n",
       "    <tr>\n",
       "      <th>12</th>\n",
       "      <td>13</td>\n",
       "      <td>Kalimantan Selatan</td>\n",
       "      <td>3922790</td>\n",
       "      <td>107</td>\n",
       "      <td>1</td>\n",
       "      <td>0</td>\n",
       "      <td>0</td>\n",
       "      <td>115.048</td>\n",
       "      <td>-3.337000</td>\n",
       "    </tr>\n",
       "    <tr>\n",
       "      <th>13</th>\n",
       "      <td>14</td>\n",
       "      <td>Kalimantan Tengah</td>\n",
       "      <td>2439858</td>\n",
       "      <td>16</td>\n",
       "      <td>6</td>\n",
       "      <td>0</td>\n",
       "      <td>0</td>\n",
       "      <td>113.818</td>\n",
       "      <td>-1.889000</td>\n",
       "    </tr>\n",
       "    <tr>\n",
       "      <th>14</th>\n",
       "      <td>15</td>\n",
       "      <td>Kalimantan Timur</td>\n",
       "      <td>3351432</td>\n",
       "      <td>17</td>\n",
       "      <td>11</td>\n",
       "      <td>0</td>\n",
       "      <td>0</td>\n",
       "      <td>116.806</td>\n",
       "      <td>0.307616</td>\n",
       "    </tr>\n",
       "    <tr>\n",
       "      <th>15</th>\n",
       "      <td>16</td>\n",
       "      <td>Kalimantan Utara</td>\n",
       "      <td>618384</td>\n",
       "      <td>9</td>\n",
       "      <td>0</td>\n",
       "      <td>0</td>\n",
       "      <td>0</td>\n",
       "      <td>116.378</td>\n",
       "      <td>3.261000</td>\n",
       "    </tr>\n",
       "    <tr>\n",
       "      <th>16</th>\n",
       "      <td>17</td>\n",
       "      <td>Kepulauan Bangka Belitung</td>\n",
       "      <td>1343900</td>\n",
       "      <td>82</td>\n",
       "      <td>0</td>\n",
       "      <td>0</td>\n",
       "      <td>0</td>\n",
       "      <td>106.100</td>\n",
       "      <td>-2.114000</td>\n",
       "    </tr>\n",
       "    <tr>\n",
       "      <th>17</th>\n",
       "      <td>18</td>\n",
       "      <td>Kepulauan Riau</td>\n",
       "      <td>1917415</td>\n",
       "      <td>237</td>\n",
       "      <td>5</td>\n",
       "      <td>1</td>\n",
       "      <td>0</td>\n",
       "      <td>104.468</td>\n",
       "      <td>0.999705</td>\n",
       "    </tr>\n",
       "    <tr>\n",
       "      <th>18</th>\n",
       "      <td>19</td>\n",
       "      <td>Lampung</td>\n",
       "      <td>8026191</td>\n",
       "      <td>227</td>\n",
       "      <td>4</td>\n",
       "      <td>0</td>\n",
       "      <td>0</td>\n",
       "      <td>105.084</td>\n",
       "      <td>-5.222000</td>\n",
       "    </tr>\n",
       "    <tr>\n",
       "      <th>19</th>\n",
       "      <td>20</td>\n",
       "      <td>Maluku</td>\n",
       "      <td>1657409</td>\n",
       "      <td>34</td>\n",
       "      <td>1</td>\n",
       "      <td>0</td>\n",
       "      <td>0</td>\n",
       "      <td>128.500</td>\n",
       "      <td>-3.063000</td>\n",
       "    </tr>\n",
       "    <tr>\n",
       "      <th>20</th>\n",
       "      <td>21</td>\n",
       "      <td>Maluku Utara</td>\n",
       "      <td>1138667</td>\n",
       "      <td>27</td>\n",
       "      <td>1</td>\n",
       "      <td>0</td>\n",
       "      <td>0</td>\n",
       "      <td>127.683</td>\n",
       "      <td>0.736064</td>\n",
       "    </tr>\n",
       "    <tr>\n",
       "      <th>21</th>\n",
       "      <td>22</td>\n",
       "      <td>Nusa Tenggara Barat</td>\n",
       "      <td>4773795</td>\n",
       "      <td>239</td>\n",
       "      <td>2</td>\n",
       "      <td>0</td>\n",
       "      <td>0</td>\n",
       "      <td>116.444</td>\n",
       "      <td>-8.635000</td>\n",
       "    </tr>\n",
       "    <tr>\n",
       "      <th>22</th>\n",
       "      <td>23</td>\n",
       "      <td>Nusa Tenggara Timur</td>\n",
       "      <td>5036897</td>\n",
       "      <td>106</td>\n",
       "      <td>0</td>\n",
       "      <td>0</td>\n",
       "      <td>0</td>\n",
       "      <td>123.804</td>\n",
       "      <td>-9.774000</td>\n",
       "    </tr>\n",
       "    <tr>\n",
       "      <th>23</th>\n",
       "      <td>24</td>\n",
       "      <td>Papua</td>\n",
       "      <td>3091047</td>\n",
       "      <td>10</td>\n",
       "      <td>7</td>\n",
       "      <td>0</td>\n",
       "      <td>0</td>\n",
       "      <td>138.570</td>\n",
       "      <td>-3.579000</td>\n",
       "    </tr>\n",
       "    <tr>\n",
       "      <th>24</th>\n",
       "      <td>25</td>\n",
       "      <td>Papua Barat</td>\n",
       "      <td>849809</td>\n",
       "      <td>2</td>\n",
       "      <td>0</td>\n",
       "      <td>0</td>\n",
       "      <td>0</td>\n",
       "      <td>132.659</td>\n",
       "      <td>-1.153000</td>\n",
       "    </tr>\n",
       "    <tr>\n",
       "      <th>25</th>\n",
       "      <td>26</td>\n",
       "      <td>Riau</td>\n",
       "      <td>6188442</td>\n",
       "      <td>66</td>\n",
       "      <td>1</td>\n",
       "      <td>0</td>\n",
       "      <td>0</td>\n",
       "      <td>101.513</td>\n",
       "      <td>0.626208</td>\n",
       "    </tr>\n",
       "    <tr>\n",
       "      <th>26</th>\n",
       "      <td>27</td>\n",
       "      <td>Sulawesi Barat</td>\n",
       "      <td>1258090</td>\n",
       "      <td>75</td>\n",
       "      <td>0</td>\n",
       "      <td>0</td>\n",
       "      <td>0</td>\n",
       "      <td>119.336</td>\n",
       "      <td>-2.361000</td>\n",
       "    </tr>\n",
       "    <tr>\n",
       "      <th>27</th>\n",
       "      <td>28</td>\n",
       "      <td>Sulawesi Selatan</td>\n",
       "      <td>8432163</td>\n",
       "      <td>183</td>\n",
       "      <td>29</td>\n",
       "      <td>1</td>\n",
       "      <td>0</td>\n",
       "      <td>120.020</td>\n",
       "      <td>-4.554000</td>\n",
       "    </tr>\n",
       "    <tr>\n",
       "      <th>28</th>\n",
       "      <td>29</td>\n",
       "      <td>Sulawesi Tengah</td>\n",
       "      <td>2831283</td>\n",
       "      <td>42</td>\n",
       "      <td>1</td>\n",
       "      <td>0</td>\n",
       "      <td>0</td>\n",
       "      <td>120.039</td>\n",
       "      <td>-0.898096</td>\n",
       "    </tr>\n",
       "    <tr>\n",
       "      <th>29</th>\n",
       "      <td>30</td>\n",
       "      <td>Sulawesi Tenggara</td>\n",
       "      <td>2448081</td>\n",
       "      <td>67</td>\n",
       "      <td>3</td>\n",
       "      <td>0</td>\n",
       "      <td>0</td>\n",
       "      <td>121.959</td>\n",
       "      <td>-3.697000</td>\n",
       "    </tr>\n",
       "    <tr>\n",
       "      <th>30</th>\n",
       "      <td>31</td>\n",
       "      <td>Sulawesi Utara</td>\n",
       "      <td>2386604</td>\n",
       "      <td>171</td>\n",
       "      <td>2</td>\n",
       "      <td>0</td>\n",
       "      <td>0</td>\n",
       "      <td>124.725</td>\n",
       "      <td>1.277000</td>\n",
       "    </tr>\n",
       "    <tr>\n",
       "      <th>31</th>\n",
       "      <td>32</td>\n",
       "      <td>Sumatra Barat</td>\n",
       "      <td>5131900</td>\n",
       "      <td>121</td>\n",
       "      <td>5</td>\n",
       "      <td>0</td>\n",
       "      <td>0</td>\n",
       "      <td>100.118</td>\n",
       "      <td>-0.186767</td>\n",
       "    </tr>\n",
       "    <tr>\n",
       "      <th>32</th>\n",
       "      <td>33</td>\n",
       "      <td>Sumatra Selatan</td>\n",
       "      <td>7941500</td>\n",
       "      <td>93</td>\n",
       "      <td>1</td>\n",
       "      <td>0</td>\n",
       "      <td>0</td>\n",
       "      <td>104.710</td>\n",
       "      <td>-3.107000</td>\n",
       "    </tr>\n",
       "    <tr>\n",
       "      <th>33</th>\n",
       "      <td>34</td>\n",
       "      <td>Sumatra Utara</td>\n",
       "      <td>13766851</td>\n",
       "      <td>189</td>\n",
       "      <td>8</td>\n",
       "      <td>1</td>\n",
       "      <td>0</td>\n",
       "      <td>98.712</td>\n",
       "      <td>3.239240</td>\n",
       "    </tr>\n",
       "  </tbody>\n",
       "</table>\n",
       "</div>"
      ],
      "text/plain": [
       "    province_id              province_name  population  population_kmsquare  \\\n",
       "0             1                       Aceh     4906835                   86   \n",
       "1             2                       Bali     4104900                  738   \n",
       "2             3                     Banten    11704877                 1298   \n",
       "3             4                   Bengkulu     1844800                   93   \n",
       "4             5              DI Yogyakarta     3553100                 1134   \n",
       "5             6                DKI Jakarta    10012271                 1353   \n",
       "6             7                  Gorontalo     1115633                   93   \n",
       "7             8                      Jambi     3344400                   63   \n",
       "8             9                 Jawa Barat    46029668                 1306   \n",
       "9            10                Jawa Tengah    33522663                  986   \n",
       "10           11                 Jawa Timur    38610202                  806   \n",
       "11           12           Kalimantan Barat     4716093                   41   \n",
       "12           13         Kalimantan Selatan     3922790                  107   \n",
       "13           14          Kalimantan Tengah     2439858                   16   \n",
       "14           15           Kalimantan Timur     3351432                   17   \n",
       "15           16           Kalimantan Utara      618384                    9   \n",
       "16           17  Kepulauan Bangka Belitung     1343900                   82   \n",
       "17           18             Kepulauan Riau     1917415                  237   \n",
       "18           19                    Lampung     8026191                  227   \n",
       "19           20                     Maluku     1657409                   34   \n",
       "20           21               Maluku Utara     1138667                   27   \n",
       "21           22        Nusa Tenggara Barat     4773795                  239   \n",
       "22           23        Nusa Tenggara Timur     5036897                  106   \n",
       "23           24                      Papua     3091047                   10   \n",
       "24           25                Papua Barat      849809                    2   \n",
       "25           26                       Riau     6188442                   66   \n",
       "26           27             Sulawesi Barat     1258090                   75   \n",
       "27           28           Sulawesi Selatan     8432163                  183   \n",
       "28           29            Sulawesi Tengah     2831283                   42   \n",
       "29           30          Sulawesi Tenggara     2448081                   67   \n",
       "30           31             Sulawesi Utara     2386604                  171   \n",
       "31           32              Sumatra Barat     5131900                  121   \n",
       "32           33            Sumatra Selatan     7941500                   93   \n",
       "33           34              Sumatra Utara    13766851                  189   \n",
       "\n",
       "    confirmed  deceased  released  longitude  latitude  \n",
       "0           4         0         0     96.720  3.869000  \n",
       "1           9         2         0    115.120 -8.250000  \n",
       "2          84         4         1    106.160 -6.315000  \n",
       "3           0         0         0    102.315 -3.414000  \n",
       "4          22         2         1    110.390 -7.863000  \n",
       "5         598        51        31    106.853 -6.162000  \n",
       "6           0         0         0    123.134  0.637194  \n",
       "7           1         0         0    103.623 -1.625000  \n",
       "8          98        14         5    107.633 -7.144000  \n",
       "9          43         6         0    110.100 -7.209900  \n",
       "10         66         4         8    112.269 -7.525000  \n",
       "11          4         0         0    109.797  0.043945  \n",
       "12          1         0         0    115.048 -3.337000  \n",
       "13          6         0         0    113.818 -1.889000  \n",
       "14         11         0         0    116.806  0.307616  \n",
       "15          0         0         0    116.378  3.261000  \n",
       "16          0         0         0    106.100 -2.114000  \n",
       "17          5         1         0    104.468  0.999705  \n",
       "18          4         0         0    105.084 -5.222000  \n",
       "19          1         0         0    128.500 -3.063000  \n",
       "20          1         0         0    127.683  0.736064  \n",
       "21          2         0         0    116.444 -8.635000  \n",
       "22          0         0         0    123.804 -9.774000  \n",
       "23          7         0         0    138.570 -3.579000  \n",
       "24          0         0         0    132.659 -1.153000  \n",
       "25          1         0         0    101.513  0.626208  \n",
       "26          0         0         0    119.336 -2.361000  \n",
       "27         29         1         0    120.020 -4.554000  \n",
       "28          1         0         0    120.039 -0.898096  \n",
       "29          3         0         0    121.959 -3.697000  \n",
       "30          2         0         0    124.725  1.277000  \n",
       "31          5         0         0    100.118 -0.186767  \n",
       "32          1         0         0    104.710 -3.107000  \n",
       "33          8         1         0     98.712  3.239240  "
      ]
     },
     "execution_count": 4,
     "metadata": {},
     "output_type": "execute_result"
    }
   ],
   "source": [
    "data = pd.read_csv(\"province.csv\")\n",
    "data"
   ]
  },
  {
   "cell_type": "code",
   "execution_count": 5,
   "metadata": {},
   "outputs": [],
   "source": [
    "# X adalah data yang akan di-scaling\n",
    "X = data.iloc[:, 2:].values.tolist()"
   ]
  },
  {
   "cell_type": "markdown",
   "metadata": {},
   "source": [
    "### Standardized\n",
    "Gunakan StandardScaler untuk melakukan standardisasi pada setiap fitur"
   ]
  },
  {
   "cell_type": "code",
   "execution_count": 6,
   "metadata": {
    "scrolled": true
   },
   "outputs": [
    {
     "data": {
      "text/plain": [
       "array([[-0.23796375, -0.50242972, -0.25471803, -0.28605073, -0.25075661,\n",
       "        -1.66577263,  1.81995153],\n",
       "       [-0.31413006,  1.04600098, -0.20556699, -0.05987108, -0.25075661,\n",
       "         0.15568578, -1.50369521],\n",
       "       [ 0.40770175,  2.37594146,  0.53169859,  0.16630856, -0.06541477,\n",
       "        -0.73128527, -0.9730197 ],\n",
       "       [-0.52879019, -0.48580546, -0.29403886, -0.28605073, -0.25075661,\n",
       "        -1.11191068, -0.17741782],\n",
       "       [-0.36653901,  1.98645889, -0.07777429, -0.05987108, -0.06541477,\n",
       "        -0.31254782, -1.39756011],\n",
       "       [ 0.24694115,  2.50656061,  5.58442537,  5.4815303 ,  5.49484052,\n",
       "        -0.6626836 , -0.93105932],\n",
       "       [-0.59804513, -0.48580546, -0.29403886, -0.28605073, -0.25075661,\n",
       "         0.94901011,  0.9336258 ],\n",
       "       [-0.38636095, -0.55705228, -0.28420865, -0.28605073, -0.25075661,\n",
       "        -0.98242875,  0.31321705],\n",
       "       [ 3.66780716,  2.39494061,  0.6693215 ,  1.29720681,  0.6759526 ,\n",
       "        -0.5854696 , -1.20037371],\n",
       "       [ 2.47991487,  1.63497462,  0.12866007,  0.39248821, -0.25075661,\n",
       "        -0.34125559, -1.21844684],\n",
       "       [ 2.96311995,  1.20749375,  0.35475485,  0.16630856,  1.23197813,\n",
       "        -0.12654128, -1.3048633 ],\n",
       "       [-0.25608008, -0.60929994, -0.25471803, -0.28605073, -0.25075661,\n",
       "        -0.37125026,  0.77092673],\n",
       "       [-0.33142653, -0.45255695, -0.28420865, -0.28605073, -0.25075661,\n",
       "         0.14855833, -0.1563005 ],\n",
       "       [-0.47227268, -0.66867228, -0.23505761, -0.28605073, -0.25075661,\n",
       "         0.0267978 ,  0.24081481],\n",
       "       [-0.38569306, -0.66629739, -0.18590658, -0.28605073, -0.25075661,\n",
       "         0.32258681,  0.84323874],\n",
       "       [-0.64527293, -0.68529654, -0.29403886, -0.28605073, -0.25075661,\n",
       "         0.2802181 ,  1.65320698],\n",
       "       [-0.57636475, -0.51192929, -0.29403886, -0.28605073, -0.25075661,\n",
       "        -0.73722481,  0.17910835],\n",
       "       [-0.52189336, -0.14382077, -0.24488782, -0.17296091, -0.25075661,\n",
       "        -0.89878025,  1.03304477],\n",
       "       [ 0.05830693, -0.16756971, -0.25471803, -0.28605073, -0.25075661,\n",
       "        -0.83780099, -0.67326346],\n",
       "       [-0.54658825, -0.62592419, -0.28420865, -0.28605073, -0.25075661,\n",
       "         1.48020282, -0.08115576],\n",
       "       [-0.59585741, -0.64254845, -0.28420865, -0.28605073, -0.25075661,\n",
       "         1.3993261 ,  0.96074099],\n",
       "       [-0.25059965, -0.13907098, -0.27437845, -0.28605073, -0.25075661,\n",
       "         0.28675159, -1.60928181],\n",
       "       [-0.2256107 , -0.45493185, -0.29403886, -0.28605073, -0.25075661,\n",
       "         1.01533495, -1.92165359],\n",
       "       [-0.41042395, -0.68292164, -0.22522741, -0.28605073, -0.25075661,\n",
       "         2.47705532, -0.22266922],\n",
       "       [-0.62329261, -0.70192079, -0.29403886, -0.28605073, -0.25075661,\n",
       "         1.89191181,  0.44266348],\n",
       "       [-0.11623908, -0.54992759, -0.28420865, -0.28605073, -0.25075661,\n",
       "        -1.19130251,  0.93061288],\n",
       "       [-0.58451483, -0.52855355, -0.29403886, -0.28605073, -0.25075661,\n",
       "         0.57303734,  0.11136838],\n",
       "       [ 0.09686541, -0.27206503, -0.00896284, -0.17296091, -0.25075661,\n",
       "         0.64074807, -0.49006386],\n",
       "       [-0.43509586, -0.60692504, -0.28420865, -0.28605073, -0.25075661,\n",
       "         0.64262893,  0.51257113],\n",
       "       [-0.47149168, -0.5475527 , -0.26454824, -0.28605073, -0.25075661,\n",
       "         0.83269415, -0.25503083],\n",
       "       [-0.47733065, -0.30056375, -0.27437845, -0.28605073, -0.25075661,\n",
       "         1.10650687,  1.10909318],\n",
       "       [-0.21658749, -0.41930844, -0.24488782, -0.28605073, -0.25075661,\n",
       "        -1.32939677,  0.70765375],\n",
       "       [ 0.05026314, -0.48580546, -0.28420865, -0.28605073, -0.25075661,\n",
       "        -0.87482411, -0.0932228 ],\n",
       "       [ 0.60354425, -0.25781567, -0.2153972 , -0.17296091, -0.25075661,\n",
       "        -1.46857995,  1.64723928]])"
      ]
     },
     "execution_count": 6,
     "metadata": {},
     "output_type": "execute_result"
    }
   ],
   "source": [
    "from sklearn.preprocessing import StandardScaler\n",
    "scaler = StandardScaler()\n",
    "X = scaler.fit_transform(X)\n",
    "# X yang sudah di scaled\n",
    "X"
   ]
  },
  {
   "cell_type": "markdown",
   "metadata": {},
   "source": [
    "### K-Means\n",
    "Gunakan KMeans untuk melakukan clustering pada fitur yang sudah distandardisasi. Hitung inertia untuk jumlah cluster yang berbeda, lalu plot penurunan inertia terhadap jumlah cluster"
   ]
  },
  {
   "cell_type": "code",
   "execution_count": 7,
   "metadata": {
    "colab": {
     "base_uri": "https://localhost:8080/",
     "height": 294
    },
    "executionInfo": {
     "elapsed": 384,
     "status": "ok",
     "timestamp": 1649506140658,
     "user": {
      "displayName": "Yozef Giovanni Tjandra",
      "userId": "03277432154125538365"
     },
     "user_tz": -420
    },
    "id": "7mKJKhUiMBy3",
    "outputId": "4a66f6b4-6a8c-4f8a-81eb-2e60e7f47f82",
    "scrolled": true
   },
   "outputs": [
    {
     "name": "stderr",
     "output_type": "stream",
     "text": [
      "c:\\Python311\\Lib\\site-packages\\sklearn\\cluster\\_kmeans.py:870: FutureWarning: The default value of `n_init` will change from 10 to 'auto' in 1.4. Set the value of `n_init` explicitly to suppress the warning\n",
      "  warnings.warn(\n",
      "c:\\Python311\\Lib\\site-packages\\sklearn\\cluster\\_kmeans.py:870: FutureWarning: The default value of `n_init` will change from 10 to 'auto' in 1.4. Set the value of `n_init` explicitly to suppress the warning\n",
      "  warnings.warn(\n",
      "c:\\Python311\\Lib\\site-packages\\sklearn\\cluster\\_kmeans.py:870: FutureWarning: The default value of `n_init` will change from 10 to 'auto' in 1.4. Set the value of `n_init` explicitly to suppress the warning\n",
      "  warnings.warn(\n",
      "c:\\Python311\\Lib\\site-packages\\sklearn\\cluster\\_kmeans.py:870: FutureWarning: The default value of `n_init` will change from 10 to 'auto' in 1.4. Set the value of `n_init` explicitly to suppress the warning\n",
      "  warnings.warn(\n",
      "c:\\Python311\\Lib\\site-packages\\sklearn\\cluster\\_kmeans.py:870: FutureWarning: The default value of `n_init` will change from 10 to 'auto' in 1.4. Set the value of `n_init` explicitly to suppress the warning\n",
      "  warnings.warn(\n",
      "c:\\Python311\\Lib\\site-packages\\sklearn\\cluster\\_kmeans.py:870: FutureWarning: The default value of `n_init` will change from 10 to 'auto' in 1.4. Set the value of `n_init` explicitly to suppress the warning\n",
      "  warnings.warn(\n",
      "c:\\Python311\\Lib\\site-packages\\sklearn\\cluster\\_kmeans.py:870: FutureWarning: The default value of `n_init` will change from 10 to 'auto' in 1.4. Set the value of `n_init` explicitly to suppress the warning\n",
      "  warnings.warn(\n",
      "c:\\Python311\\Lib\\site-packages\\sklearn\\cluster\\_kmeans.py:870: FutureWarning: The default value of `n_init` will change from 10 to 'auto' in 1.4. Set the value of `n_init` explicitly to suppress the warning\n",
      "  warnings.warn(\n",
      "c:\\Python311\\Lib\\site-packages\\sklearn\\cluster\\_kmeans.py:870: FutureWarning: The default value of `n_init` will change from 10 to 'auto' in 1.4. Set the value of `n_init` explicitly to suppress the warning\n",
      "  warnings.warn(\n",
      "c:\\Python311\\Lib\\site-packages\\sklearn\\cluster\\_kmeans.py:870: FutureWarning: The default value of `n_init` will change from 10 to 'auto' in 1.4. Set the value of `n_init` explicitly to suppress the warning\n",
      "  warnings.warn(\n",
      "c:\\Python311\\Lib\\site-packages\\sklearn\\cluster\\_kmeans.py:870: FutureWarning: The default value of `n_init` will change from 10 to 'auto' in 1.4. Set the value of `n_init` explicitly to suppress the warning\n",
      "  warnings.warn(\n",
      "c:\\Python311\\Lib\\site-packages\\sklearn\\cluster\\_kmeans.py:870: FutureWarning: The default value of `n_init` will change from 10 to 'auto' in 1.4. Set the value of `n_init` explicitly to suppress the warning\n",
      "  warnings.warn(\n",
      "c:\\Python311\\Lib\\site-packages\\sklearn\\cluster\\_kmeans.py:870: FutureWarning: The default value of `n_init` will change from 10 to 'auto' in 1.4. Set the value of `n_init` explicitly to suppress the warning\n",
      "  warnings.warn(\n",
      "c:\\Python311\\Lib\\site-packages\\sklearn\\cluster\\_kmeans.py:870: FutureWarning: The default value of `n_init` will change from 10 to 'auto' in 1.4. Set the value of `n_init` explicitly to suppress the warning\n",
      "  warnings.warn(\n",
      "c:\\Python311\\Lib\\site-packages\\sklearn\\cluster\\_kmeans.py:870: FutureWarning: The default value of `n_init` will change from 10 to 'auto' in 1.4. Set the value of `n_init` explicitly to suppress the warning\n",
      "  warnings.warn(\n",
      "c:\\Python311\\Lib\\site-packages\\sklearn\\cluster\\_kmeans.py:870: FutureWarning: The default value of `n_init` will change from 10 to 'auto' in 1.4. Set the value of `n_init` explicitly to suppress the warning\n",
      "  warnings.warn(\n",
      "c:\\Python311\\Lib\\site-packages\\sklearn\\cluster\\_kmeans.py:870: FutureWarning: The default value of `n_init` will change from 10 to 'auto' in 1.4. Set the value of `n_init` explicitly to suppress the warning\n",
      "  warnings.warn(\n",
      "c:\\Python311\\Lib\\site-packages\\sklearn\\cluster\\_kmeans.py:870: FutureWarning: The default value of `n_init` will change from 10 to 'auto' in 1.4. Set the value of `n_init` explicitly to suppress the warning\n",
      "  warnings.warn(\n",
      "c:\\Python311\\Lib\\site-packages\\sklearn\\cluster\\_kmeans.py:870: FutureWarning: The default value of `n_init` will change from 10 to 'auto' in 1.4. Set the value of `n_init` explicitly to suppress the warning\n",
      "  warnings.warn(\n",
      "c:\\Python311\\Lib\\site-packages\\sklearn\\cluster\\_kmeans.py:870: FutureWarning: The default value of `n_init` will change from 10 to 'auto' in 1.4. Set the value of `n_init` explicitly to suppress the warning\n",
      "  warnings.warn(\n",
      "c:\\Python311\\Lib\\site-packages\\sklearn\\cluster\\_kmeans.py:870: FutureWarning: The default value of `n_init` will change from 10 to 'auto' in 1.4. Set the value of `n_init` explicitly to suppress the warning\n",
      "  warnings.warn(\n",
      "c:\\Python311\\Lib\\site-packages\\sklearn\\cluster\\_kmeans.py:870: FutureWarning: The default value of `n_init` will change from 10 to 'auto' in 1.4. Set the value of `n_init` explicitly to suppress the warning\n",
      "  warnings.warn(\n",
      "c:\\Python311\\Lib\\site-packages\\sklearn\\cluster\\_kmeans.py:870: FutureWarning: The default value of `n_init` will change from 10 to 'auto' in 1.4. Set the value of `n_init` explicitly to suppress the warning\n",
      "  warnings.warn(\n",
      "c:\\Python311\\Lib\\site-packages\\sklearn\\cluster\\_kmeans.py:870: FutureWarning: The default value of `n_init` will change from 10 to 'auto' in 1.4. Set the value of `n_init` explicitly to suppress the warning\n",
      "  warnings.warn(\n",
      "c:\\Python311\\Lib\\site-packages\\sklearn\\cluster\\_kmeans.py:870: FutureWarning: The default value of `n_init` will change from 10 to 'auto' in 1.4. Set the value of `n_init` explicitly to suppress the warning\n",
      "  warnings.warn(\n",
      "c:\\Python311\\Lib\\site-packages\\sklearn\\cluster\\_kmeans.py:870: FutureWarning: The default value of `n_init` will change from 10 to 'auto' in 1.4. Set the value of `n_init` explicitly to suppress the warning\n",
      "  warnings.warn(\n",
      "c:\\Python311\\Lib\\site-packages\\sklearn\\cluster\\_kmeans.py:870: FutureWarning: The default value of `n_init` will change from 10 to 'auto' in 1.4. Set the value of `n_init` explicitly to suppress the warning\n",
      "  warnings.warn(\n",
      "c:\\Python311\\Lib\\site-packages\\sklearn\\cluster\\_kmeans.py:870: FutureWarning: The default value of `n_init` will change from 10 to 'auto' in 1.4. Set the value of `n_init` explicitly to suppress the warning\n",
      "  warnings.warn(\n",
      "c:\\Python311\\Lib\\site-packages\\sklearn\\cluster\\_kmeans.py:870: FutureWarning: The default value of `n_init` will change from 10 to 'auto' in 1.4. Set the value of `n_init` explicitly to suppress the warning\n",
      "  warnings.warn(\n",
      "c:\\Python311\\Lib\\site-packages\\sklearn\\cluster\\_kmeans.py:870: FutureWarning: The default value of `n_init` will change from 10 to 'auto' in 1.4. Set the value of `n_init` explicitly to suppress the warning\n",
      "  warnings.warn(\n",
      "c:\\Python311\\Lib\\site-packages\\sklearn\\cluster\\_kmeans.py:870: FutureWarning: The default value of `n_init` will change from 10 to 'auto' in 1.4. Set the value of `n_init` explicitly to suppress the warning\n",
      "  warnings.warn(\n",
      "c:\\Python311\\Lib\\site-packages\\sklearn\\cluster\\_kmeans.py:870: FutureWarning: The default value of `n_init` will change from 10 to 'auto' in 1.4. Set the value of `n_init` explicitly to suppress the warning\n",
      "  warnings.warn(\n"
     ]
    },
    {
     "data": {
      "text/plain": [
       "Text(0, 0.5, 'inertia')"
      ]
     },
     "execution_count": 7,
     "metadata": {},
     "output_type": "execute_result"
    },
    {
     "data": {
      "image/png": "[encoded data removed]",
      "text/plain": [
       "<Figure size 640x480 with 1 Axes>"
      ]
     },
     "metadata": {},
     "output_type": "display_data"
    }
   ],
   "source": [
    "from sklearn.cluster import KMeans\n",
    "import matplotlib.pyplot as plt\n",
    "\n",
    "wcss = []\n",
    "for i in range(1,33):\n",
    "    kmeans = KMeans(n_clusters=i, random_state=40)\n",
    "    kmeans.fit(X)\n",
    "    wcss.append(kmeans.inertia_)\n",
    "    \n",
    "plt.plot(range(1, 33), wcss)\n",
    "plt.xlabel('jumlah cluster')\n",
    "plt.ylabel('inertia')"
   ]
  },
  {
   "cell_type": "markdown",
   "metadata": {},
   "source": [
    "Pilihlah jumlah cluster yang kira-kira paling sesuai menurut aturan elbow, lalu tampilkan nama provinsi untuk setiap cluster"
   ]
  },
  {
   "cell_type": "code",
   "execution_count": 8,
   "metadata": {
    "id": "_lgL5bjVN3kq"
   },
   "outputs": [
    {
     "name": "stderr",
     "output_type": "stream",
     "text": [
      "c:\\Python311\\Lib\\site-packages\\sklearn\\cluster\\_kmeans.py:870: FutureWarning: The default value of `n_init` will change from 10 to 'auto' in 1.4. Set the value of `n_init` explicitly to suppress the warning\n",
      "  warnings.warn(\n"
     ]
    },
    {
     "data": {
      "text/plain": [
       "array([4, 0, 0, 4, 0, 1, 2, 4, 3, 3, 3, 4, 2, 2, 2, 2, 4, 4, 0, 2, 2, 0,\n",
       "       0, 2, 2, 4, 2, 2, 2, 2, 2, 4, 4, 4])"
      ]
     },
     "execution_count": 8,
     "metadata": {},
     "output_type": "execute_result"
    }
   ],
   "source": [
    "kmeans = KMeans(n_clusters=5, random_state=7)\n",
    "kmeans.fit(X)\n",
    "\n",
    "labels = kmeans.labels_\n",
    "labels"
   ]
  },
  {
   "cell_type": "code",
   "execution_count": 9,
   "metadata": {},
   "outputs": [
    {
     "data": {
      "text/plain": [
       "0.38187707892769845"
      ]
     },
     "execution_count": 9,
     "metadata": {},
     "output_type": "execute_result"
    }
   ],
   "source": [
    "from sklearn.metrics import silhouette_score\n",
    "silhouette_score(X, labels)"
   ]
  },
  {
   "cell_type": "code",
   "execution_count": 10,
   "metadata": {},
   "outputs": [
    {
     "name": "stdout",
     "output_type": "stream",
     "text": [
      "cluster 1: [['Bali' 'Banten' 'DI Yogyakarta' 'Lampung' 'Nusa Tenggara Barat'\n",
      "  'Nusa Tenggara Timur']]\n",
      "cluster 2: [['DKI Jakarta']]\n",
      "cluster 3: [['Gorontalo' 'Kalimantan Selatan' 'Kalimantan Tengah' 'Kalimantan Timur'\n",
      "  'Kalimantan Utara' 'Maluku' 'Maluku Utara' 'Papua' 'Papua Barat'\n",
      "  'Sulawesi Barat' 'Sulawesi Selatan' 'Sulawesi Tengah'\n",
      "  'Sulawesi Tenggara' 'Sulawesi Utara']]\n",
      "cluster 4: [['Jawa Barat' 'Jawa Tengah' 'Jawa Timur']]\n",
      "cluster 5: [['Aceh' 'Bengkulu' 'Jambi' 'Kalimantan Barat'\n",
      "  'Kepulauan Bangka Belitung' 'Kepulauan Riau' 'Riau' 'Sumatra Barat'\n",
      "  'Sumatra Selatan' 'Sumatra Utara']]\n"
     ]
    }
   ],
   "source": [
    "nama_provinsi = data['province_name']\n",
    "\n",
    "# Menampilkan output untuk setiap cluster\n",
    "for k in range(max(labels)+1):\n",
    "    # Mengambil data yang termasuk pada cluster k\n",
    "    cluster_k = nama_provinsi[labels == k]\n",
    "    # Menampilkan output\n",
    "    print(f'cluster {k+1}: {cluster_k.values.reshape(1,-1)}')"
   ]
  },
  {
   "cell_type": "markdown",
   "metadata": {},
   "source": [
    "# II. Hierarchical Clustering \n",
    "Sekarang coba gunakan AgglomerativeClustering untuk melakukan clustering pada fitur yang sudah distandardisasi. Hitung silhouette_score untuk jumlah cluster yang berbeda, lalu plot perubahan silhouette_score terhadap jumlah cluster"
   ]
  },
  {
   "cell_type": "code",
   "execution_count": 11,
   "metadata": {},
   "outputs": [
    {
     "data": {
      "text/plain": [
       "Text(0, 0.5, 'skor silhouette')"
      ]
     },
     "execution_count": 11,
     "metadata": {},
     "output_type": "execute_result"
    },
    {
     "data": {
      "image/png": "[encoded data removed]",
      "text/plain": [
       "<Figure size 640x480 with 1 Axes>"
      ]
     },
     "metadata": {},
     "output_type": "display_data"
    }
   ],
   "source": [
    "from sklearn.cluster import AgglomerativeClustering\n",
    "from sklearn.metrics import silhouette_score\n",
    "\n",
    "ss = []\n",
    "for i in range(2,33):\n",
    "    ac = AgglomerativeClustering(n_clusters=i)\n",
    "    ac.fit(X)\n",
    "    ss.append(silhouette_score(X, ac.labels_))\n",
    "\n",
    "plt.plot(range(2,33),ss)\n",
    "plt.xlabel('jumlah cluster')\n",
    "plt.ylabel('skor silhouette')"
   ]
  },
  {
   "cell_type": "markdown",
   "metadata": {},
   "source": [
    "Bacalah mengenai silhouette analysis (scikit-learn.org/stable/auto_examples/cluster/plot_kmeans_silhouette_analysis.html). Pilihlah jumlah cluster yang kira-kira paling sesuai menurut aturan silhouette, lalu tampilkan nama provinsi untuk setiap cluster. Bandingkan hasilnya dengan KMeans Clustering"
   ]
  },
  {
   "cell_type": "code",
   "execution_count": 12,
   "metadata": {},
   "outputs": [
    {
     "data": {
      "text/plain": [
       "array([1, 0, 0, 1, 0, 3, 2, 1, 4, 4, 4, 2, 2, 2, 2, 2, 1, 1, 1, 2, 2, 0,\n",
       "       0, 2, 2, 1, 2, 2, 2, 2, 2, 1, 1, 1], dtype=int64)"
      ]
     },
     "execution_count": 12,
     "metadata": {},
     "output_type": "execute_result"
    }
   ],
   "source": [
    "ac = AgglomerativeClustering(n_clusters=5)\n",
    "ac.fit(X)\n",
    "labels = ac.labels_\n",
    "labels"
   ]
  },
  {
   "cell_type": "code",
   "execution_count": 13,
   "metadata": {},
   "outputs": [
    {
     "data": {
      "text/plain": [
       "0.38092123966985975"
      ]
     },
     "execution_count": 13,
     "metadata": {},
     "output_type": "execute_result"
    }
   ],
   "source": [
    "from sklearn.metrics import silhouette_score\n",
    "silhouette_score(X, labels)"
   ]
  },
  {
   "cell_type": "code",
   "execution_count": 14,
   "metadata": {},
   "outputs": [
    {
     "name": "stdout",
     "output_type": "stream",
     "text": [
      "cluster 1: [['Bali' 'Banten' 'DI Yogyakarta' 'Nusa Tenggara Barat'\n",
      "  'Nusa Tenggara Timur']]\n",
      "cluster 2: [['Aceh' 'Bengkulu' 'Jambi' 'Kepulauan Bangka Belitung' 'Kepulauan Riau'\n",
      "  'Lampung' 'Riau' 'Sumatra Barat' 'Sumatra Selatan' 'Sumatra Utara']]\n",
      "cluster 3: [['Gorontalo' 'Kalimantan Barat' 'Kalimantan Selatan' 'Kalimantan Tengah'\n",
      "  'Kalimantan Timur' 'Kalimantan Utara' 'Maluku' 'Maluku Utara' 'Papua'\n",
      "  'Papua Barat' 'Sulawesi Barat' 'Sulawesi Selatan' 'Sulawesi Tengah'\n",
      "  'Sulawesi Tenggara' 'Sulawesi Utara']]\n",
      "cluster 4: [['DKI Jakarta']]\n",
      "cluster 5: [['Jawa Barat' 'Jawa Tengah' 'Jawa Timur']]\n"
     ]
    }
   ],
   "source": [
    "\n",
    "nama_provinsi = data['province_name']\n",
    "\n",
    "# Menampilkan output untuk setiap cluster\n",
    "for k in range(max(labels)+1):\n",
    "    # Mengambil data yang termasuk pada cluster k\n",
    "    cluster_k = nama_provinsi[labels == k]\n",
    "    # Menampilkan output\n",
    "    print(f'cluster {k+1}: {cluster_k.values.reshape(1,-1)}')"
   ]
  },
  {
   "cell_type": "markdown",
   "metadata": {},
   "source": [
    "### Dendrogram\n",
    "Tampilkan dendrogram (hubungan antar cluster) dari seluruh provinsi di indonesia. Tuliskan hasil pengamatanmu mengenai kemiripan dan perbedaan antar provinsi"
   ]
  },
  {
   "cell_type": "code",
   "execution_count": 15,
   "metadata": {
    "scrolled": false
   },
   "outputs": [
    {
     "data": {
      "image/png": "[encoded data removed]",
      "text/plain": [
       "<Figure size 640x480 with 1 Axes>"
      ]
     },
     "metadata": {},
     "output_type": "display_data"
    }
   ],
   "source": [
    "import scipy\n",
    "from scipy.cluster.hierarchy import dendrogram\n",
    "labelList = data['province_name'].values\n",
    "\n",
    "def plot_dendrogram(model, **kwargs):\n",
    "    # Create linkage matrix and then plot the dendrogram\n",
    "\n",
    "    # create the counts of samples under each node\n",
    "    counts = np.zeros(model.children_.shape[0])\n",
    "    n_samples = len(model.labels_)\n",
    "    for i, merge in enumerate(model.children_):\n",
    "        current_count = 0\n",
    "        for child_idx in merge:\n",
    "            if child_idx < n_samples:\n",
    "                current_count += 1  # leaf node\n",
    "            else:\n",
    "                current_count += counts[child_idx - n_samples]\n",
    "        counts[i] = current_count\n",
    "\n",
    "    linkage_matrix = scipy.cluster.hierarchy.linkage(X, method='ward')\n",
    "\n",
    "    # Plot the corresponding dendrogram\n",
    "    dendrogram(\n",
    "            linkage_matrix,\n",
    "            orientation='right',\n",
    "            labels=labelList,\n",
    "            distance_sort='descending',\n",
    "            show_leaf_counts=False,\n",
    "            color_threshold = 5,\n",
    "          )\n",
    "# setting distance_threshold=0 ensures we compute the full tree.\n",
    "ac = AgglomerativeClustering(distance_threshold=0, n_clusters=None)\n",
    "ac = ac.fit(X)\n",
    "plot_dendrogram(ac, truncate_mode=\"level\", p=3)\n",
    "plt.show()"
   ]
  },
  {
   "cell_type": "markdown",
   "metadata": {},
   "source": [
    "### Kesimpulan\n",
    "Bandingkan dan simpulkan metode K-Means dan Hierarchical Clustering di atas"
   ]
  },
  {
   "cell_type": "code",
   "execution_count": null,
   "metadata": {},
   "outputs": [],
   "source": []
  }
 ],
 "metadata": {
  "colab": {
   "authorship_tag": "ABX9TyP98IaVyOLKT2TEE+nIBdX6",
   "name": "Tugas 8 - Unsupervised Learning.ipynb",
   "provenance": []
  },
  "kernelspec": {
   "display_name": "Python 3 (ipykernel)",
   "language": "python",
   "name": "python3"
  },
  "language_info": {
   "codemirror_mode": {
    "name": "ipython",
    "version": 3
   },
   "file_extension": ".py",
   "mimetype": "text/x-python",
   "name": "python",
   "nbconvert_exporter": "python",
   "pygments_lexer": "ipython3",
   "version": "3.11.2"
  },
  "vscode": {
   "interpreter": {
    "hash": "369f2c481f4da34e4445cda3fffd2e751bd1c4d706f27375911949ba6bb62e1c"
   }
  }
 },
 "nbformat": 4,
 "nbformat_minor": 1
}
